{
 "cells": [
  {
   "cell_type": "markdown",
   "metadata": {},
   "source": [
    "![](brain.png)"
   ]
  },
  {
   "cell_type": "code",
   "execution_count": 1,
   "metadata": {},
   "outputs": [],
   "source": [
    "import numpy as np\n",
    "import matplotlib.pyplot as plot"
   ]
  },
  {
   "cell_type": "markdown",
   "metadata": {},
   "source": [
    "# Réseau profond\n",
    "## Mise en situation\n",
    "Toujours salarié à la poste, préposé aux algorithmes de reconnaissance des codes postaux :)\n",
    "\n",
    "90% c'est bien, tentons de faire mieux. Si passer d'un modèle logistique (1 couche) à un réseau de neurones tel qu'on la vu (2 couches) a grandement amélioré le modèle, est-ce qu'on ne pourrait pas faire encore mieux avec des couches en plus ?\n",
    "\n",
    "## L'apprentissage profond\n",
    "### Le principe\n",
    "Le principe du _Deep Learning_, c'est d'entrer plus en profondeur dans l'apprentissage. Ajouter des couches de réseau notamment.\n",
    "\n",
    "L'idée est la suivante - pour de la reconnaissance d'images : une première couche va détecter des patterns simples (des lignes par exemple), une seconde couche va détecter des patterns plus complexes qui combinent les premiers (des courbes par exemple), une troisième va mixer les précédents pour reconnaître des formes, etc...\n",
    "\n",
    "### Définition formelle des couches\n",
    "On appelle généralement les entrées la première couche, et la sortie la dernière couche.\n",
    "Toutes les couches intermédiaires sont les couches cachées (_hidden layers_).\n",
    "\n",
    "Autrement dit, dans le modèle précédent, il s'agissait sémantiquement parlant d'un réseau à trois couches : l'entrée (qui faisait 28x28), la couche intermédiaire (variable) et la sortie (taille 10).\n",
    "\n",
    "### Dérivation et propagation du gradient\n",
    "Le calcul de la dérivée va se faire comme précédemment. En gros, si on a une entrée $A_{n-1}$, des paramètres $W_{n}$ et $b_{n}$, et une fonction d'activation $a()$, on a:\n",
    "\n",
    "* Passe en avant :\n",
    "\n",
    "$Z_{n} = W_{n}.A_{n-1} + b_{n}\\\\\n",
    "A_{n} = a(Z_{n})$\n",
    "\n",
    "* Passe en arrière : avec en plus $dA_{n}$\n",
    "\n",
    "$dZ_{n} = a'(Z_{n}) * dA_{n}\\\\\n",
    "dW_{n} = dZ.A_{n-1}^T\\\\\n",
    "db_{n} = \\sum{dZ}\\\\\n",
    "dA_{n-1} = W_{n}^T.dZ$\n",
    "\n",
    "## Implémentation\n",
    "Pour implémenter ça, on va procéder de la manière suivante:\n",
    "1. On calcule les différents Z et A pour chaque couche. On gardera les résultats du calcul pour la marche arrière.\n",
    "2. On revient en marche arrière, couche par couche aussi\n",
    "3. On applique la descente de gradient\n",
    "\n",
    "### Les fonctions\n",
    "On commence par implémenter les différentes fonctions. On va aussi en faire un dictionnaire."
   ]
  },
  {
   "cell_type": "code",
   "execution_count": 5,
   "metadata": {},
   "outputs": [],
   "source": [
    "# Les différentes fonctions\n",
    "def sigmoid(x) : return 1 / (1 + np.exp(-x))\n",
    "def tanh(x): return (np.exp(x) - np.exp(-x))/(np.exp(x) + np.exp(-x))\n",
    "def relu(x): return np.maximum(x, 0)\n",
    "\n",
    "act_functions = {'sigmoid': sigmoid, 'tanh' : tanh, 'relu' : relu}"
   ]
  },
  {
   "cell_type": "markdown",
   "metadata": {},
   "source": [
    "### Les dérivées\n",
    "\n",
    "Et maintenant les dérivées de ces fonctions. On en fera aussi un dictionnaire."
   ]
  },
  {
   "cell_type": "code",
   "execution_count": 3,
   "metadata": {},
   "outputs": [],
   "source": [
    "# Leurs dérivées\n",
    "def d_sigmoid(x):\n",
    "    s = sigmoid(x)\n",
    "    return s * (1 - s)\n",
    "\n",
    "def d_tanh(x):\n",
    "    t = tanh(x)\n",
    "    return 1 - t**2\n",
    "\n",
    "def d_relu(x):\n",
    "    return x > 0\n",
    "\n",
    "act_derivates = {'sigmoid': d_sigmoid, 'tanh' : d_tanh, 'relu' : d_relu}"
   ]
  },
  {
   "cell_type": "markdown",
   "metadata": {},
   "source": [
    "### La passe en avant\n",
    "On y va pour le calcul du modèle, et on commence par la passe en avant.\n",
    "\n",
    "D'après les formules, on a besoin de calculer Z et A pour chaque couche, et au passage on aura besoin des Z et A correspondants lors de la marche arrière."
   ]
  },
  {
   "cell_type": "code",
   "execution_count": 11,
   "metadata": {},
   "outputs": [],
   "source": [
    "\n",
    "# Passe en avant : 1 couche - on utilise le dictionnaire de fonctions\n",
    "def layer_forward_pass(X, W, b, activation):\n",
    "    Z = np.dot(W, X) + b\n",
    "    A = act_functions[activation](Z)\n",
    "    return Z, A\n",
    "\n",
    "# Passe en avant : toutes les couches\n",
    "def model_forward_pass(X, activations, parameters):\n",
    "    result = {}\n",
    "    result['A0'] = X\n",
    "    # Entrée de la première couche: X\n",
    "    A = X\n",
    "    for i in range(1, len(activations) + 1):\n",
    "        # Pour chaque couche, une passe en avant. Les W et b viennent de parameters\n",
    "        Z_next, A_next = layer_forward_pass(A, parameters['W' + str(i)], parameters['b' + str(i)], activations[i-1])\n",
    "        result['Z' + str(i)] = Z_next\n",
    "        result['A' + str(i)] = A_next\n",
    "        A = A_next\n",
    "    return result"
   ]
  },
  {
   "cell_type": "markdown",
   "metadata": {},
   "source": [
    "### La passe en arrière\n",
    "On va maintenant calculer tous les gradients à partir du gradient de A sur la couche dont on vient, ainsi que Z, A et W de la couche considérée."
   ]
  },
  {
   "cell_type": "code",
   "execution_count": 12,
   "metadata": {},
   "outputs": [],
   "source": [
    "\n",
    "# Passe en arrière : 1 couche - on utilise le dictionnaire de dérivées\n",
    "def layer_backward_pass(dA, Z, A_prev, W, activation):\n",
    "    dZ = dA * act_derivates[activation](Z)\n",
    "    dW = np.dot(dZ, A_prev.T)\n",
    "    db = np.sum(dZ, axis=1, keepdims = True)\n",
    "    dA_prev = np.dot(W.T, dZ)\n",
    "    return dW, db, dA_prev\n",
    "\n",
    "# Passe en arrière : toutes les couches\n",
    "def model_backward_pass(dA_last, parameters, forward_pass_results, activations):\n",
    "    gradients = {}\n",
    "    dA = dA_last\n",
    "    for i in range(len(activations), 0, -1):\n",
    "        dW, db, dA_prev = layer_backward_pass(dA,\n",
    "                                              forward_pass_results['Z' + str(i)],\n",
    "                                              forward_pass_results['A' + str(i-1)],\n",
    "                                              parameters['W' + str(i)],\n",
    "                                              activations[i-1])\n",
    "        gradients['dW' + str(i)] = dW\n",
    "        gradients['db' + str(i)] = db\n",
    "        dA = dA_prev\n",
    "    return gradients"
   ]
  },
  {
   "cell_type": "markdown",
   "metadata": {},
   "source": [
    "### Entrainement du modèle\n",
    "Il ne reste plus qu'à faire la descente en elle-même.\n",
    "* On initialise tous les W et tous les b\n",
    "* On boucle \n",
    "  * On calcule tous les Z et tous les A\n",
    "  * On calcule dA final\n",
    "  * On remonte tous les dZ, dA, dW et dB\n",
    "  * On descent les gradients dW et dB"
   ]
  },
  {
   "cell_type": "code",
   "execution_count": 13,
   "metadata": {},
   "outputs": [],
   "source": [
    "\n",
    "def train_model(X, Y, layer_dimensions, layer_activations,\n",
    "               learning_rate = 0.01, epochs = 10, batch_size = 64,\n",
    "               show_cost = False):\n",
    "    \n",
    "    m = X.shape[1]\n",
    "    #Nombre de couches - hors celle des entrées\n",
    "    l = len(layer_dimensions)-1\n",
    "    \n",
    "    # Création de tous les paramètres\n",
    "    # A chaque étape, W a pour dimensions \"nb neurones de la couche\" x \"nb entrées\"\n",
    "    # Et b est un vecteur, une valeur par neurone\n",
    "    parameters = {}\n",
    "    for i in range(1, l+1):\n",
    "        parameters['W' + str(i)] = np.random.randn(layer_dimensions[i], layer_dimensions[i-1]) * 0.01\n",
    "        parameters['b' + str(i)] = np.zeros((layer_dimensions[i], 1))\n",
    "    \n",
    "    costs = []\n",
    "    # Apprentissage\n",
    "    for e in range(epochs):\n",
    "        for s in range(0, m, batch_size):\n",
    "            x_batch = X[:, s:s+batch_size]\n",
    "            y_batch = Y[:, s:s+batch_size]\n",
    "    \n",
    "            # Passe en avant\n",
    "            forward_pass_results = model_forward_pass(x_batch, layer_activations, parameters)\n",
    "            \n",
    "            # Calcul de la dérivée du coût par rapport au dernier A\n",
    "            A_last = forward_pass_results['A' + str(l)]\n",
    "            dA_last = -(np.divide(y_batch, A_last) - np.divide(1 - y_batch, 1 - A_last))/x_batch.shape[1]\n",
    "\n",
    "            # Calcul des gradients - passe en arrière\n",
    "            gradients = model_backward_pass(dA_last, parameters, forward_pass_results, layer_activations)\n",
    "            \n",
    "            # Descente de gradient\n",
    "            for i in range(1, l+1):\n",
    "                parameters['W' + str(i)] -= learning_rate * gradients['dW' + str(i)]\n",
    "                parameters['b' + str(i)] -= learning_rate * gradients['db' + str(i)]\n",
    "        \n",
    "        # Un peu de debug\n",
    "        model_result = model_forward_pass(X, layer_activations, parameters)['A' + str(l)]\n",
    "        cost = np.squeeze(-np.sum(np.log(model_result) * Y + np.log(1 - model_result) * (1-Y))/m)\n",
    "        costs.append(cost)\n",
    "        if show_cost : print('Epoch #%i: %s' % (e+1, cost))\n",
    "    return parameters, costs"
   ]
  },
  {
   "cell_type": "markdown",
   "metadata": {},
   "source": [
    "## Retour à la mise en situation\n",
    "\n",
    "### Chargement des données\n",
    "\n",
    "On continue avec le dataset de Yann Le Cun http://yann.lecun.com/exdb/mnist/ (images 28x28, 60.000 données d'entrainement et 10.000 données de validation)"
   ]
  },
  {
   "cell_type": "code",
   "execution_count": 15,
   "metadata": {},
   "outputs": [],
   "source": [
    "def load(file): \n",
    "    data = np.load(file)\n",
    "    return data['x'], data['y']\n",
    "\n",
    "x_train, y_train = load('data/d09_train_data.npz')\n",
    "x_test , y_test  = load('data/d09_test_data.npz')\n",
    "\n",
    "mus    = x_train.mean(axis = 0, keepdims = True)\n",
    "sigmas = x_train.std (axis = 0, keepdims = True) + 1e-9\n",
    "\n",
    "x_train_norm = (x_train-mus)/sigmas\n",
    "x_test_norm  = (x_test -mus)/sigmas\n",
    "\n",
    "y_train_mat = (y_train == np.arange(10)).astype(int)"
   ]
  },
  {
   "cell_type": "markdown",
   "metadata": {},
   "source": [
    "Allez, c'est parti. On va essayer par exemple (au pif) \"tanh 50 / sigmoid 25 / sigmoid 10\" sur 30 époques."
   ]
  },
  {
   "cell_type": "code",
   "execution_count": 16,
   "metadata": {},
   "outputs": [
    {
     "name": "stdout",
     "output_type": "stream",
     "text": [
      "Epoch #1: 2.30543242166822\n",
      "Epoch #2: 0.8672230396771443\n",
      "Epoch #3: 0.5402521350775323\n",
      "Epoch #4: 0.4020369615764879\n",
      "Epoch #5: 0.3275815333298787\n",
      "Epoch #6: 0.27666591760091486\n",
      "Epoch #7: 0.2396338458387329\n",
      "Epoch #8: 0.21253026251026488\n",
      "Epoch #9: 0.19252387304390495\n",
      "Epoch #10: 0.17572010648636466\n",
      "Epoch #11: 0.16278958540674465\n",
      "Epoch #12: 0.1488421702617406\n",
      "Epoch #13: 0.1365402813484844\n",
      "Epoch #14: 0.12734935170992287\n",
      "Epoch #15: 0.11824495832867164\n",
      "Epoch #16: 0.11030037387666043\n",
      "Epoch #17: 0.103274526001583\n",
      "Epoch #18: 0.09714845430784734\n",
      "Epoch #19: 0.0913995686033537\n",
      "Epoch #20: 0.08535739959465743\n",
      "Epoch #21: 0.08057645151848615\n",
      "Epoch #22: 0.07478317718782729\n",
      "Epoch #23: 0.07106743845405625\n",
      "Epoch #24: 0.06712220945939042\n",
      "Epoch #25: 0.06337991778373567\n",
      "Epoch #26: 0.059884086943492086\n",
      "Epoch #27: 0.057084094023103764\n",
      "Epoch #28: 0.054317420381163925\n",
      "Epoch #29: 0.05180229404945984\n",
      "Epoch #30: 0.04877062957830094\n"
     ]
    },
    {
     "data": {
      "image/png": "[encoded data removed]",
      "text/plain": [
       "<Figure size 432x288 with 1 Axes>"
      ]
     },
     "metadata": {
      "needs_background": "light"
     },
     "output_type": "display_data"
    }
   ],
   "source": [
    "np.random.seed(0)\n",
    "epochs = 30\n",
    "activations = ['tanh', 'sigmoid', 'sigmoid']\n",
    "\n",
    "params, costs = train_model(x_train_norm.T, y_train_mat.T, [28*28, 50, 25, 10], activations,\n",
    "                            epochs = epochs, learning_rate = 0.1, show_cost = True)\n",
    "\n",
    "plot.plot(range(epochs), costs)\n",
    "plot.title('Cost, by epochs')\n",
    "plot.show()"
   ]
  },
  {
   "cell_type": "markdown",
   "metadata": {},
   "source": [
    "Sympa. On va voir le résultat maintenant"
   ]
  },
  {
   "cell_type": "code",
   "execution_count": 39,
   "metadata": {},
   "outputs": [
    {
     "name": "stdout",
     "output_type": "stream",
     "text": [
      "Accuracy on training set : 99.618333%\n",
      "Accuracy on test set : 95.160000%\n"
     ]
    },
    {
     "name": "stderr",
     "output_type": "stream",
     "text": [
      "<ipython-input-5-db26018beedf>:3: RuntimeWarning: overflow encountered in exp\n",
      "  def tanh(x): return (np.exp(x) - np.exp(-x))/(np.exp(x) + np.exp(-x))\n",
      "<ipython-input-5-db26018beedf>:3: RuntimeWarning: invalid value encountered in true_divide\n",
      "  def tanh(x): return (np.exp(x) - np.exp(-x))/(np.exp(x) + np.exp(-x))\n"
     ]
    }
   ],
   "source": [
    "def accuracy(x, y, params, layer_activations):\n",
    "    results = np.argmax(model_forward_pass(x, layer_activations, params)['A'+str(len(layer_activations))], axis = 0)\n",
    "    return np.mean(results == y)\n",
    "\n",
    "print('Accuracy on training set : %f%%' % (100*accuracy(x_train_norm.T, y_train.T, params, activations)))\n",
    "print('Accuracy on test set : %f%%'     % (100*accuracy(x_test_norm.T , y_test.T , params, activations)))"
   ]
  },
  {
   "cell_type": "markdown",
   "metadata": {},
   "source": [
    "**99.6%** au training !!!\n",
    "\n",
    "Bon par contre *que* 95% au test.\n",
    "\n",
    "Ca signifie un gros overfit puisqu'on a une grosse variance. On a plusieurs manière de traiter ça, on les verra plus tard, mais aussi il faut savoir que plus le modèle est complexe (nombre de couches, nombre de neurones), plus on est sujet à l'overfit : le modèle a toute la liberté qu'il souhaite pour essayer de coller aux données d'entrainement. On essaye un autre modèle \"relu 50 / relu 25 / sigmoide 10\" par exemple :"
   ]
  },
  {
   "cell_type": "code",
   "execution_count": 42,
   "metadata": {},
   "outputs": [
    {
     "name": "stdout",
     "output_type": "stream",
     "text": [
      "Epoch #1: 3.2195483867992793\n",
      "Epoch #2: 2.0287953695902634\n",
      "Epoch #3: 1.2126691928430533\n",
      "Epoch #4: 0.8336738098191159\n",
      "Epoch #5: 0.5623689268493152\n",
      "Epoch #6: 0.4555980061721843\n",
      "Epoch #7: 0.39161707515738664\n",
      "Epoch #8: 0.3469891733366317\n",
      "Epoch #9: 0.3138278944290432\n",
      "Epoch #10: 0.2879912661898643\n",
      "Epoch #11: 0.2670224230888944\n",
      "Epoch #12: 0.24939292249481787\n",
      "Epoch #13: 0.23433969160319695\n",
      "Epoch #14: 0.221318233683586\n",
      "Epoch #15: 0.2099040925033945\n",
      "Epoch #16: 0.19943010551131396\n",
      "Epoch #17: 0.1899812082312572\n",
      "Epoch #18: 0.1814930746600185\n",
      "Epoch #19: 0.17359656460343328\n",
      "Epoch #20: 0.16625734854894347\n",
      "Epoch #21: 0.15958209107379936\n",
      "Epoch #22: 0.1532596114878994\n",
      "Epoch #23: 0.14738682595420918\n",
      "Epoch #24: 0.14180338078302335\n",
      "Epoch #25: 0.13659951420139718\n",
      "Epoch #26: 0.13155587558984533\n",
      "Epoch #27: 0.12692951793706558\n",
      "Epoch #28: 0.12238802168322196\n",
      "Epoch #29: 0.11819243337864467\n",
      "Epoch #30: 0.11416090553141027\n"
     ]
    },
    {
     "data": {
      "image/png": "[encoded data removed]",
      "text/plain": [
       "<Figure size 432x288 with 1 Axes>"
      ]
     },
     "metadata": {
      "needs_background": "light"
     },
     "output_type": "display_data"
    }
   ],
   "source": [
    "np.random.seed(0)\n",
    "epochs = 30\n",
    "activations = ['relu', 'relu', 'sigmoid']\n",
    "\n",
    "params, costs = train_model(x_train_norm.T, y_train_mat.T, [28*28, 50, 25, 10], activations,\n",
    "                            epochs = epochs, learning_rate = 0.01, show_cost = True)\n",
    "\n",
    "plot.plot(range(epochs), costs)\n",
    "plot.title('Cost, by epochs')\n",
    "plot.show()"
   ]
  },
  {
   "cell_type": "code",
   "execution_count": 43,
   "metadata": {},
   "outputs": [
    {
     "name": "stdout",
     "output_type": "stream",
     "text": [
      "Accuracy on training set : 98.576667%\n",
      "Accuracy on test set : 96.910000%\n"
     ]
    },
    {
     "name": "stderr",
     "output_type": "stream",
     "text": [
      "<ipython-input-5-db26018beedf>:2: RuntimeWarning: overflow encountered in exp\n",
      "  def sigmoid(x) : return 1 / (1 + np.exp(-x))\n"
     ]
    }
   ],
   "source": [
    "print('Accuracy on training set : %f%%' % (100*accuracy(x_train_norm.T, y_train.T, params, activations)))\n",
    "print('Accuracy on test set : %f%%'     % (100*accuracy(x_test_norm.T , y_test.T , params, activations)))"
   ]
  },
  {
   "cell_type": "markdown",
   "metadata": {},
   "source": [
    "On fait *un poil* moins bien sur le jeu d'entrainement mais enfin c'est toujours du 98.57%, et on fait quasiment du 97% sur le jeu de test, ce qui est sensiblement mieux !\n",
    "\n",
    "Voilà, donc un peu plus de biais mais un peu moins de variance sur ce modèle. Et si la métrique qu'on retient est la précision, alors le second modèle est un peu meilleur.\n",
    "\n",
    "\n",
    "## Quelques remarques\n",
    "\n",
    "### L'importance du jeu de dev\n",
    "Quand on dit \"le modèle avec deux ReLUs fonctionne mieux que celui avec tanh + sigmoid\", c'est fortement biaisé : la vérité est que **sur le jeu de test qu'on a à disposition**, ce modèle fait mieux.\n",
    "\n",
    "Autrement dit, on \"entraîne\" l'hyper-paramètre \"structure du réseau\" pour minimiser une fonction de coût (celle sur le jeu de test) !\n",
    "\n",
    "Et de la même manière qu'on valide le résultat de l'entrainement sur des données inconnues, il faudrait faire pareil pour cet ajustement de structure.\n",
    "\n",
    "En gros, il faudrait :\n",
    "* un jeu d'entrainement comme le notre\n",
    "* un jeu de dev, qui nous permet de mieux développer notre modèle : quelle est la meilleure structure, la meilleure régularisation, etc... une fois un modèle entraîné, on compare les performances avec un jeu de données dédié.\n",
    "* un jeu de test, qui nous permet, une fois notre meilleur modèle trouvé, de regarder sa performance \"globale\".\n",
    "\n",
    "### Extension du système\n",
    "Pour intégrer une nouvelle fonction d'activation, rien de plus simple, il suffit d'avoir la fonction souhaitée et sa dérivée, et de les ajouter aux dictionnaires correspondants.\n",
    "\n",
    "### Étapes suivantes\n",
    "Il y a pas mal de choses supplémentaires à faire, pour limiter l'overfit par exemple (un peu de régulation) et des techniques avancées pour optimiser la convergence."
   ]
  }
 ],
 "metadata": {
  "kernelspec": {
   "display_name": "Python 3",
   "language": "python",
   "name": "python3"
  },
  "language_info": {
   "codemirror_mode": {
    "name": "ipython",
    "version": 3
   },
   "file_extension": ".py",
   "mimetype": "text/x-python",
   "name": "python",
   "nbconvert_exporter": "python",
   "pygments_lexer": "ipython3",
   "version": "3.8.6"
  }
 },
 "nbformat": 4,
 "nbformat_minor": 4
}
