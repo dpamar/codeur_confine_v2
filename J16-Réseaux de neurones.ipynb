{
 "cells": [
  {
   "cell_type": "markdown",
   "metadata": {},
   "source": [
    "![](brain.png)"
   ]
  },
  {
   "cell_type": "code",
   "execution_count": 1,
   "metadata": {},
   "outputs": [],
   "source": [
    "import numpy as np\n",
    "import matplotlib.pyplot as plot"
   ]
  },
  {
   "cell_type": "markdown",
   "metadata": {},
   "source": [
    "# Réseaux de neurones\n",
    "\n",
    "## Mise en situation\n",
    "Toujours salarié à la poste, préposé aux algorithmes de reconnaissances des codes postaux :)\n",
    "\n",
    "La permière version à base de régression logistique (cf. jour 9) était rapide et _plutôt_ efficace (~75%) mais trop loin de ce qu'on est en droit d'espérer comparé à un humain.\n",
    "\n",
    "La seconde version à base de kNN (cf. jour 10) faisait du 95%, mais trop lente.\n",
    "\n",
    "La version 3, qui mixait kNN et PCA (cf. jour 13) corrigeait un peu ce souci en réduisant la dimensionalité du problème. Mais sur des problèmes à beaucoup plus large échelle, le PCA permettra souvent de réduire les dimensions sans pour autant arriver au final à un nombre \"raisonnable\" de dimensions restantes. Ca sera parfois encore trop pour faire un modèle efficace à base de kNN+PCA.\n",
    "\n",
    "Donc, retour à la case départ, grosse performance en temps et en précision, si possible.\n",
    "\n",
    "## Un neurone\n",
    "### Neurone biologique\n",
    "Biologiquement parlant, le neurone est une cellule qui va :\n",
    "* être excitée par un stimulus\n",
    "* délivrer une charge de neurotransmetteurs si le stimulus dépasse un certain seuil\n",
    "\n",
    "Ces neurotransmetteurs sont des stimuli pour d'autres neurones, et ainsi de suite.\n",
    "\n",
    "Je ne suis pas spécialise en biologie donc je ne broderai pas plus que ça.\n",
    "\n",
    "### Neurone artificiel\n",
    "La définition biologique ressemble à un concept qu'on a déjà manipulé. Une fonction qui en entrée reçoit différentes informations, et qui les traite pour obtenir un résultat quasi binaire : c'est une régression logistique.\n",
    "\n",
    "On a vu (cf. jour 15) qu'on pouvait résoudre un problème non-linéaire en empilant des régressions logistiques. On y a vu aussi que le modèle pouvait aussi se débrouiller pour trouver les régressions optimales à empiler.\n",
    "\n",
    "## Réseau de neurones\n",
    "### Définition du réseau de neurones à deux couches\n",
    "On considère un système dans lequel on aurait certaines mesures en entrée et :\n",
    "* $l_1$ modèles de regression logistique (on va dire neurones à partir de maintenant) qui travaillent sur toutes les mesures. C'est la première couche.\n",
    "* $l_2$ neurones qui travaillent sur les $l_1$ sorties de la première couche.\n",
    "\n",
    "Le XOR empilait deux couches avec 2 entrées $a$ et $b$, $l_1=1$, $l_2=2$, ici on a la même chose en plus générique.\n",
    "\n",
    "En général, quand on fait une classification, $l_2$ est le nombre de classes différentes, on aura autant de neurones en dernière couche que de classes à reconnaitre : un neurone dédié à une classe. Ça permet aussi de ne pas entraîner 10 modèles logistiques pour reconnaître 10 chiffres différents, comme on a du le faire...\n",
    "\n",
    "### Représentation du modèle\n",
    "Certaines conventions changent, notamment:\n",
    "* On ne va plus parler de $\\theta$ avec un paramètre $\\theta_0$ lié à une mesure virtuelle $x_0$ fixée à 1. A la place on a:\n",
    "  * les poids _W_\n",
    "  * le biais _b_\n",
    "  * _b_ correspond peu ou prou à $\\theta_0$ et _W_ aux autres paramètres\n",
    "* _W_ n'est pas un vecteur, c'est une matrice\n",
    "  * $\\theta$ était un vecteur correspondant aux poids d'un seul neurone, _W_ est le jeu de poids de chaque neurone de la couche\n",
    "  * _b_ n'est pas un scalaire mais un vecteur pour la même raison (un biais par neurone de la couche)\n",
    "* _W_ et _b_ sont\n",
    "  * définis par couche : on aura W1, b1, W2, b2\n",
    "  * pour _W_, de taille L x L', avec L' la taille de la couche précédente et L la taille de la couche en cours\n",
    "  * pour _b_, de taille L x 1\n",
    "* Le jeu d'entrainement _X_ n'est plus \"un exemple par ligne\" mais \"un exemple par colonne\". De même _Y_ est un vecteur ligne désormais.\n",
    "\n",
    "Ces changements arbitraires permettent de coder le tout de manière plus propre.\n",
    "\n",
    "### Passe vers l'avant\n",
    "A partir d'une donnée x, on va :\n",
    "* pour chaque neurone de la couche 1\n",
    "  * calculer la combinaison linéaire \"x et poids du neurone\", plus le biais, pour obtenir une valeur $z_1$ par neurone\n",
    "  * calculer l'activation $a_1$ de ce neurone : le passage de $z_1$ à travers la fonction sigmoïde\n",
    "* pour chaque neurone de la seconde couche, on va :\n",
    "  * calculer la combinaison linéaire de \"a et poids du neurone\" plus le biais pour obtenir une valeur $z_2$ par neurone\n",
    "  * calculer l'activation $a_2$ de ce neurone : le passage de $z_2$ à travers la fonction sigmoïde\n",
    "  \n",
    "Chaque couche fait à peu près pareil. Les données sont les entrées de la première, la sortie de la première est l'entrée de la seconde, et la sortie de la seconde est la sortie du modèle.\n",
    "\n",
    "### Passe vers l'avant - version matricielle\n",
    "On pourra calculer tout d'un coup, via les formules :\n",
    "* Z1 = W1.X + b1\n",
    "  * Donne une matrice \"résultat par neurone de la couche et par exemple traité\"\n",
    "  * Un broadcast transformera b1 en matrice avec le bon nombre de colonnes, chacune étant égale à b1\n",
    "* A1 = S(Z1)\n",
    "  * On traite la sigmoide sur toute la matrice\n",
    "* Z2 = W2.A1 + b2\n",
    "* A2 = S(Z2)\n",
    "\n",
    "### Passe vers l'arrière (rétropropagation du gradient)\n",
    "Comme on l'a vu avec le XOR, dériver le coût n'est pas une mince affaire mais on peut le faire efficacement par étape via la formule de la composé de la dérivée. Et on va même trouver une relation de récurrence !\n",
    "\n",
    "Le coût du modèle est toujours celui utilisé pour les classifications : $-\\frac{1}{m}\\sum\\left[y.log(A2) + (1-y).log(1-A2)\\right]$\n",
    "\n",
    "On commence déjà par calculer la dérivée par rapport à A2 - notation : on appelera dX la dérivée de J partielle par rapport à X.\n",
    "\n",
    "dA2 = $-\\frac{1}{m}\\left[\\frac{y}{A2} - \\frac{1-y}{1-A2}\\right]$\n",
    "\n",
    "Et on remonte à partir de là : dZ2, dW2, db2 etc...\n",
    "\n",
    "* A2 = s(Z2)\n",
    "  * dZ2 est $\\frac{dJ}{dZ2}$, qui vaut $\\frac{dJ}{dA2} * \\frac{dA2}{dZ2}$, on va calculer la dérivée de A2 par rapport à Z2\n",
    "  * dZ2 = dA2 * A2 * (1-A2) - la dérivée de la sigmoide est $\\sigma'(x) = \\sigma(x).(1-\\sigma(x))$\n",
    "* db2 = dZ2 - attention au broadcast ! on a copié b2 pour chaque exemple, en sens inverse il faut le sommer pour chaque exemple\n",
    "* dW2 = dZ2.A1' - la transposée de A1\n",
    "* dA1 = W2'.dZ2\n",
    "* dZ1 = dA1 * A1 (1-A1) - cf ci-dessus\n",
    "* db1 = dZ1 (sommé, cf. plus haut db2)\n",
    "* dW1 = dZ1.X'\n",
    "\n",
    "Et inutile de remonter plus haut, on n'a pas besoin de \"corriger\" les entrées X :)\n",
    "\n",
    "Pour bien clarifier, on va écrire les dimensions :\n",
    "* On note :\n",
    "  * m nombre de données\n",
    "  * n nombre de mesures par données\n",
    "  * l nombre de neurones de la première couche\n",
    "  * k nombre de classes\n",
    "* On a en première couche\n",
    "  * X de taille n x m\n",
    "  * W1 de taille l x n\n",
    "  * b1 de taille l x 1\n",
    "  * Donc Z1 = W1.X+b1 de taille l x m (broadcast de b1 en l x m)\n",
    "  * A1 de même taille que Z1 : l x m\n",
    "* Puis en seconde couche\n",
    "  * W2 de taille k x l\n",
    "  * b2 de taille k x 1\n",
    "  * Donc Z2 de taille k x m\n",
    "  * Et A2 de taille k x m. Ca correspond bien à k réponses, pour chacun des m exemples.\n",
    "* En marche arrière maintenant\n",
    "  * dA2 est de taille k x m (broadcast de Y de 1 x m vers k x m)\n",
    "  * dZ2 idem - c'est un produit élément par élément\n",
    "  * dW2 est de dimension (k x m).(m x l) donc k x l\n",
    "  * db2 est de dimension k x 1 (k x l mais sommé)\n",
    "  * dA1 : l x m\n",
    "  * dZ1 : idem\n",
    "  * dW1 : l x n\n",
    "  * db1 : l x 1 (broadcast inverse)\n",
    "  \n",
    "Tout va bien : les gradients sont de mêmes dimensions que les paramètres du modéle :-)\n",
    "\n",
    "### Initialisation des W et b\n",
    "La valeur de départ importe peu - pour l'instant. On convergera probablement. Par contre, il est impératif de \"casser la symétrie\" : si on met tous les W d'une couche à zéro ou même une constante non nulle, lors du retour du gradient on aura le même gradient sur chaque composante, et au final chaque neurone sera identique à quelque nombre d'itération que ce soit.\n",
    "\n",
    "Exemple avec le XOR : je sais que le modèle va, mettons, calculer (A ou B) et (!A ou !B) dans la couche intermédiaire. Pour y arriver, il va prendre celui des deux neurones qui est le plus \"proche\" de la première opération et l'ajuster en fonction, et idem pour la seconde. Si on est à l'équilibre parfait, on est en plein dans la variante ML de l'âne de Buridan : impossible de choisir entre l'eau et l'avoine, le système restera à l'équilibre.\n",
    "\n",
    "Une fois le point de départ défini, tout le système est entierement déterministe : il faut donc un point de départ qui permette d'arriver au point de convergence, mais on n'a aucune raison de faire évoluer un neurone plutôt qu'un autre s'ils ont les mêmes gradients de retours. Avec certaines méthodes anti-overfit comme le dropout par exemple, on verra plus tard que le déterminisme peut être cassé.\n",
    "\n",
    "En tous les cas, une initialisation aléatoire des W est nécessaire. Il existe quelques optimisations pour faire converger plus vite, mais pareil on verra ça dans les jours suivants.\n",
    "\n",
    "Concernant les _b_, mettre des 0 suffit pour le coup : les poids sont importants, le biais n'est qu'une variable d'ajustement pour minimiser un écart constant.\n",
    "\n",
    "## Simulation rapide\n",
    "\n",
    "Validons rapidement le concept avec un exemple rapide : le XOR. On sait que ça marche puisqu'on l'a déjà fait par ailleurs.\n",
    "\n",
    "La fonction *double_layer_model* va entrainer ce modèle comme on a l'habitude de le faire : descente de gradient, mini batch, etc..."
   ]
  },
  {
   "cell_type": "code",
   "execution_count": 2,
   "metadata": {},
   "outputs": [],
   "source": [
    "def sigmoid(x) : return 1 / (1 + np.exp(-x))\n",
    "\n",
    "def double_layer_model(X, Y, mid_layer, class_count, learning_rate = 0.0075, num_iterations = 3000, batch_size = 64):\n",
    "\n",
    "    m = X.shape[1]\n",
    "    batchStart = 0\n",
    "    costs = []\n",
    "\n",
    "    W1 = np.random.rand(mid_layer, X.shape[0])\n",
    "    b1 = np.zeros((mid_layer, 1))\n",
    "    W2 = np.random.rand(class_count, mid_layer)\n",
    "    b2 = np.zeros((class_count, 1))\n",
    "\n",
    "\n",
    "    for i in range(1, num_iterations+1):\n",
    "        Xbatch = X[:,batchStart:batchStart + batch_size]\n",
    "        Ybatch = Y[:,batchStart:batchStart + batch_size]\n",
    "        \n",
    "        # Passe en avant\n",
    "        Z1 = np.dot(W1, Xbatch) + b1\n",
    "        A1 = sigmoid(Z1)\n",
    "        Z2 = np.dot(W2, A1) + b2\n",
    "        A2 = sigmoid(Z2)\n",
    "        \n",
    "        # Calcul du cout (juste pour voir)\n",
    "        cost = np.squeeze(-np.sum(np.log(A2) * Ybatch + np.log(1 - A2) * (1-Ybatch))/Xbatch.shape[1])\n",
    "        if i % (num_iterations // 100) == 0:\n",
    "            costs.append(cost)\n",
    "        if i % (num_iterations // 20) == 0:\n",
    "            print (\"Cost after iteration %i: %f\" %(i, cost))\n",
    "\n",
    "        dA2 = -(np.divide(Ybatch, A2) - np.divide(1 - Ybatch, 1 - A2))/Xbatch.shape[1]\n",
    "        dZ2 = dA2 * A2 * (1 - A2)\n",
    "        dW2 = np.dot(dZ2, A1.T)\n",
    "        db2 = np.sum(dZ2, axis=1, keepdims = True)\n",
    "        \n",
    "        dA1 = np.dot(W2.T, dZ2)\n",
    "        dZ1 = dA1 * A1 * (1 - A1)\n",
    "        dW1 = np.dot(dZ1, Xbatch.T)\n",
    "        db1 = np.sum(dZ1, axis=1, keepdims = True)\n",
    "        \n",
    "        W1 -= learning_rate * dW1\n",
    "        b1 -= learning_rate * db1\n",
    "        W2 -= learning_rate * dW2\n",
    "        b2 -= learning_rate * db2\n",
    "\n",
    "        batchStart += batch_size\n",
    "        if batchStart >= X.shape[1]: batchStart = 0\n",
    "        \n",
    "    return W1, b1, W2, b2, costs\n",
    "\n",
    "def model(X, W1, b1, W2, b2) :\n",
    "        Z1 = np.dot(W1, X) + b1\n",
    "        A1 = sigmoid(Z1)\n",
    "        Z2 = np.dot(W2, A1) + b2\n",
    "        A2 = sigmoid(Z2)\n",
    "        return A2"
   ]
  },
  {
   "cell_type": "markdown",
   "metadata": {},
   "source": [
    "On y va pour l'entrainement : un XOR. On sait qu'il faut 2 neurones dans la première couche, et qu'il n'y a qu'une réponse donc une seule classe de sortie"
   ]
  },
  {
   "cell_type": "code",
   "execution_count": 3,
   "metadata": {},
   "outputs": [
    {
     "name": "stdout",
     "output_type": "stream",
     "text": [
      "Cost after iteration 100: 0.692126\n",
      "Cost after iteration 200: 0.685371\n",
      "Cost after iteration 300: 0.631033\n",
      "Cost after iteration 400: 0.500277\n",
      "Cost after iteration 500: 0.235959\n",
      "Cost after iteration 600: 0.089350\n",
      "Cost after iteration 700: 0.050119\n",
      "Cost after iteration 800: 0.034105\n",
      "Cost after iteration 900: 0.025642\n",
      "Cost after iteration 1000: 0.020463\n",
      "Cost after iteration 1100: 0.016986\n",
      "Cost after iteration 1200: 0.014499\n",
      "Cost after iteration 1300: 0.012634\n",
      "Cost after iteration 1400: 0.011187\n",
      "Cost after iteration 1500: 0.010032\n",
      "Cost after iteration 1600: 0.009090\n",
      "Cost after iteration 1700: 0.008307\n",
      "Cost after iteration 1800: 0.007646\n",
      "Cost after iteration 1900: 0.007082\n",
      "Cost after iteration 2000: 0.006593\n"
     ]
    },
    {
     "data": {
      "image/png": "[encoded data removed]",
      "text/plain": [
       "<Figure size 432x288 with 1 Axes>"
      ]
     },
     "metadata": {
      "needs_background": "light"
     },
     "output_type": "display_data"
    }
   ],
   "source": [
    "np.random.seed(1)\n",
    "x = np.array([[0,0],[0,1],[1,0],[1,1]]).T\n",
    "y = np.array([[0,1,1,0]])\n",
    "W1, b1, W2, b2, costs = double_layer_model(x, y, 2,1, learning_rate = 1, num_iterations = 2000)\n",
    "\n",
    "plot.title('Cost by iteration')\n",
    "plot.plot(range(100), costs)\n",
    "plot.show()"
   ]
  },
  {
   "cell_type": "markdown",
   "metadata": {},
   "source": [
    "Et maintenant on valide le détail :"
   ]
  },
  {
   "cell_type": "code",
   "execution_count": 4,
   "metadata": {
    "scrolled": true
   },
   "outputs": [
    {
     "name": "stdout",
     "output_type": "stream",
     "text": [
      "0 xor 0 = 0\n",
      "0 xor 1 = 1\n",
      "1 xor 0 = 1\n",
      "1 xor 1 = 0\n"
     ]
    }
   ],
   "source": [
    "xor_result = model(x, W1, b1, W2, b2)\n",
    "for i in range(4):\n",
    "    print(\"%i xor %i = %i\" %(x[0,i], x[1,i], xor_result[0,i]>.5))"
   ]
  },
  {
   "cell_type": "markdown",
   "metadata": {},
   "source": [
    "## Retour à la mise en situation\n",
    "\n",
    "### Chargement des données\n",
    "\n",
    "Les données sont les même que d'habitude. Elles proviennent du dataset de Yann Le Cun http://yann.lecun.com/exdb/mnist/\n",
    "\n",
    "Il s'agit d'images 28x28, 60.000 données d'entrainement et 10.000 données de validation."
   ]
  },
  {
   "cell_type": "code",
   "execution_count": 5,
   "metadata": {},
   "outputs": [
    {
     "name": "stdout",
     "output_type": "stream",
     "text": [
      "60000 training samples loaded of size 784\n",
      "10000 test samples loaded\n"
     ]
    }
   ],
   "source": [
    "def load(file): \n",
    "    data = np.load(file)\n",
    "    return data['x'], data['y']\n",
    "\n",
    "x_train, y_train = load('data/d09_train_data.npz')\n",
    "x_test , y_test  = load('data/d09_test_data.npz')\n",
    "\n",
    "m,n = x_train.shape\n",
    "\n",
    "print('%i training samples loaded of size %i' % (m, n))\n",
    "print('%i test samples loaded' %(x_test.shape[0]))"
   ]
  },
  {
   "cell_type": "markdown",
   "metadata": {},
   "source": [
    "On normalise (very important !) et on construit une matrice de résultat au lieu d'un vecteur de valeurs"
   ]
  },
  {
   "cell_type": "code",
   "execution_count": 6,
   "metadata": {},
   "outputs": [],
   "source": [
    "mus = x_train.mean(axis = 0)\n",
    "sigmas = x_train.std(axis = 0)\n",
    "x_train_norm = (x_train-mus)/(1e-9 +sigmas)\n",
    "y_train_mat = (y_train == np.arange(10)).astype(int)"
   ]
  },
  {
   "cell_type": "markdown",
   "metadata": {},
   "source": [
    "On y va pour l'entrainement : reste à trouver la valeur de neurones adéquate pour la première couche.\n",
    "\n",
    "Il n'y a pas vraiment de méthode. En général, plus il y en a et mieux c'est : au pire le système ignorera les neurones inutiles. Par contre, ça prendra plus de temps."
   ]
  },
  {
   "cell_type": "code",
   "execution_count": 7,
   "metadata": {},
   "outputs": [
    {
     "name": "stdout",
     "output_type": "stream",
     "text": [
      "Cost after iteration 1000: 1.238752\n",
      "Cost after iteration 2000: 0.997574\n",
      "Cost after iteration 3000: 0.974595\n",
      "Cost after iteration 4000: 0.697858\n",
      "Cost after iteration 5000: 0.731749\n",
      "Cost after iteration 6000: 0.505472\n",
      "Cost after iteration 7000: 0.523882\n",
      "Cost after iteration 8000: 0.809232\n",
      "Cost after iteration 9000: 0.347687\n",
      "Cost after iteration 10000: 0.535144\n",
      "Cost after iteration 11000: 0.099107\n",
      "Cost after iteration 12000: 0.932439\n",
      "Cost after iteration 13000: 0.543279\n",
      "Cost after iteration 14000: 0.624429\n",
      "Cost after iteration 15000: 0.333379\n",
      "Cost after iteration 16000: 0.301502\n",
      "Cost after iteration 17000: 0.243928\n",
      "Cost after iteration 18000: 0.212076\n",
      "Cost after iteration 19000: 0.334557\n",
      "Cost after iteration 20000: 0.166549\n"
     ]
    },
    {
     "data": {
      "image/png": "[encoded data removed]",
      "text/plain": [
       "<Figure size 432x288 with 1 Axes>"
      ]
     },
     "metadata": {
      "needs_background": "light"
     },
     "output_type": "display_data"
    }
   ],
   "source": [
    "np.random.seed(1)\n",
    "W1, b1, W2, b2, costs = double_layer_model(x_train_norm.T, y_train_mat.T, 50, 10, learning_rate = 1\n",
    "                                      , num_iterations = 20000)\n",
    "plot.title('Cost by iteration')\n",
    "plot.plot(range(100), costs)\n",
    "plot.show()"
   ]
  },
  {
   "cell_type": "markdown",
   "metadata": {},
   "source": [
    "Note : le coût ne décroit pas en permanence: un peu à cause de $\\alpha$, et un peu aussi parce que c'est du mini batch. Regardons le résultat :"
   ]
  },
  {
   "cell_type": "code",
   "execution_count": 8,
   "metadata": {},
   "outputs": [
    {
     "name": "stdout",
     "output_type": "stream",
     "text": [
      "Accuracy on training set : 94.720000%\n"
     ]
    }
   ],
   "source": [
    "# On calcule la matrice de résultat\n",
    "y_model_train = model(x_train_norm.T, W1, b1, W2, b2)\n",
    "\n",
    "# On la transforme en vecteur de valeurs\n",
    "y_train_result = np.argmax(y_model_train, axis = 0).reshape(-1, 1)\n",
    "\n",
    "# Et on calcule le ratio\n",
    "train_ratio = np.mean(y_train_result == y_train)\n",
    "\n",
    "print(\"Accuracy on training set : %f%%\" % (100 * train_ratio))"
   ]
  },
  {
   "cell_type": "markdown",
   "metadata": {},
   "source": [
    "Et bien entendu, on va faire pareil sur le jeu de test :"
   ]
  },
  {
   "cell_type": "code",
   "execution_count": 9,
   "metadata": {},
   "outputs": [
    {
     "name": "stdout",
     "output_type": "stream",
     "text": [
      "Accuracy on test set : 91.310000%\n"
     ]
    }
   ],
   "source": [
    "x_test_norm = (x_test - mus)/(1e-9 + sigmas)\n",
    "\n",
    "# On calcule la matrice de résultat\n",
    "y_model_test = model(x_test_norm.T, W1, b1, W2, b2)\n",
    "\n",
    "# On la transforme en vecteur de valeurs\n",
    "y_test_result = np.argmax(y_model_test, axis = 0).reshape(-1, 1)\n",
    "\n",
    "# Et on calcule le ratio\n",
    "test_ratio = np.mean(y_test_result == y_test)\n",
    "\n",
    "print(\"Accuracy on test set : %f%%\" % (100 * test_ratio))"
   ]
  },
  {
   "cell_type": "markdown",
   "metadata": {},
   "source": [
    "Une précision de 91.31%. C'est vraiment pas mal ! En tous les cas bien mieux que le 70% d'une simple régression logistique ! Affichons quelques erreurs pour voir."
   ]
  },
  {
   "cell_type": "code",
   "execution_count": 10,
   "metadata": {},
   "outputs": [
    {
     "data": {
      "image/png": "[encoded data removed]",
      "text/plain": [
       "<Figure size 720x720 with 25 Axes>"
      ]
     },
     "metadata": {
      "needs_background": "light"
     },
     "output_type": "display_data"
    }
   ],
   "source": [
    "wrong_indices_samples = np.argwhere(y_test_result != y_test)[:25, 0]\n",
    "\n",
    "fig = plot.figure(figsize=(10,10))\n",
    "for i in range(25):\n",
    "    axes = fig.add_subplot(5,5,1+i)\n",
    "    axes.xaxis.set_visible(False)\n",
    "    axes.yaxis.set_visible(False)\n",
    "    index = wrong_indices_samples[i]\n",
    "    plot.imshow(x_test[index, :].reshape(28,28))\n",
    "    plot.title('Model : %i, real: %i'% (y_test_result[index], y_test[index]))"
   ]
  },
  {
   "cell_type": "markdown",
   "metadata": {},
   "source": [
    "Il existe un critère simple pour savoir si on peut encore faire mieux : est-ce que moi, être humain, j'y arrive?\n",
    "\n",
    "Si la réponse est oui, on peut progresser un peu plus. Ou en tous les cas, on sait qu'il est possible de faire mieux et il va falloir trouver comment. On verra quelques outils plus tard, pour dépasser 95%."
   ]
  }
 ],
 "metadata": {
  "kernelspec": {
   "display_name": "Python 3",
   "language": "python",
   "name": "python3"
  },
  "language_info": {
   "codemirror_mode": {
    "name": "ipython",
    "version": 3
   },
   "file_extension": ".py",
   "mimetype": "text/x-python",
   "name": "python",
   "nbconvert_exporter": "python",
   "pygments_lexer": "ipython3",
   "version": "3.8.6"
  }
 },
 "nbformat": 4,
 "nbformat_minor": 4
}
