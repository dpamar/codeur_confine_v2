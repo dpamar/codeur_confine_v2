{
 "cells": [
  {
   "cell_type": "markdown",
   "metadata": {},
   "source": [
    "![](brain.png)"
   ]
  },
  {
   "cell_type": "code",
   "execution_count": 1,
   "metadata": {},
   "outputs": [],
   "source": [
    "import numpy as np\n",
    "import matplotlib.pyplot as plot"
   ]
  },
  {
   "cell_type": "markdown",
   "metadata": {},
   "source": [
    "# Régressions et fonctions non linéaires\n",
    "\n",
    "## Mise en situation\n",
    "Un cas d'école aujourd'hui : je veux modéliser un XOR (la fonction _OU exclusif_) via une régression logistique.\n",
    "\n",
    "Et j'y arrive pas...\n",
    "\n",
    "_Note: le sujet parait bête et bateau, mais il a une importance historique..._\n",
    "\n",
    "## Introduction au sujet\n",
    "La semaine prochaine, on attaquera les réseaux de neurones. Mais pour finir cette semaine dans le monde du non-supervisé, j'ai imaginé cette introduction au sujet \"Réseau de neurones\" qui fait intervenir une partie de \"non-supervision\" dans le concept. Si si, vous verrez plus bas :)\n",
    "\n",
    "Du coup, je sais que ce que j'expose est clairement un réseau de neurones, mais philosophiquement parlant la machine va trouver toute seule une configuration de sa couche intermédiaire - et si vous n'avez rien compris à ce passage c'est pas grave, c'est pour Lundi prochain :D\n",
    "\n",
    "\n",
    "## Les régressions logistiques\n",
    "### Les limites de décision\n",
    "\n",
    "Comme on a déjà pu le voir les semaines précédentes, la régression logistique permet de tracer une limite entre les données \"dans la classe\" et les données \"hors de la classe\".\n",
    "\n",
    "Pour une régression linéaire qui sert de base à la régression logistique, ça sera un point en 1D, une droite en 2D, un plan en 3D etc...\n",
    "\n",
    "### Le XOR\n",
    "XOR est la fonction qui, on le rappelle, renvoie 1 si et seulement si une seule des deux opérandes vaut 1, et 0 sinon. Plusieurs définitions équivalentes:\n",
    "* A xor B = (A ET !B) OU (!A ET B)\n",
    "* A xor B = (A OU B) ET (!A OU !B)\n",
    "* A xor B = (A =/= B) _oui parce que si A et B sont différents mais à valeur dans [0,1] c'est ce qu'on cherche_"
   ]
  },
  {
   "cell_type": "code",
   "execution_count": 2,
   "metadata": {},
   "outputs": [
    {
     "data": {
      "image/png": "[encoded data removed]",
      "text/plain": [
       "<Figure size 432x288 with 1 Axes>"
      ]
     },
     "metadata": {
      "needs_background": "light"
     },
     "output_type": "display_data"
    }
   ],
   "source": [
    "plot.xlim(-1, 2)\n",
    "plot.ylim(-1, 2)\n",
    "plot.scatter([0,1],[0,1],color='r', marker = 'o')\n",
    "plot.scatter([0,1],[1,0],color='g', marker = '+')\n",
    "plot.show()"
   ]
  },
  {
   "cell_type": "markdown",
   "metadata": {},
   "source": [
    "Et on le voit, il n'est pas possible de tracer une droite qui va séparer les verts des rouges...\n",
    "\n",
    "### La triche polynomiale\n",
    "Comme on l'a vu (jour 2), la régression linéaire peut devenir polynomiale, et servir de base à une régression logistique. On va pouvoir contourner le souci en ajoutant par exemple une valeur _C=A*B_ avec nos données A et B. Une version linéaire serait alors A+B-2C par exemple : on vérifiera que ça vaut 1 pour A = 1 et B = 0 ou l'inverse.\n",
    "\n",
    "Par contre, on l'a vu aussi, ajouter de la complexité polynomiale un peu au hasard c'est couteux, et en plus on n'aura souvent pas d'autre choix que de taper au hasard...\n",
    "\n",
    "### Découpage du problème\n",
    "On va considérer dans un premier temps par exemple les fonctions suivantes: (A OU B), (!A OU !B), (A ET B)"
   ]
  },
  {
   "cell_type": "code",
   "execution_count": 3,
   "metadata": {},
   "outputs": [
    {
     "data": {
      "image/png": "[encoded data removed]",
      "text/plain": [
       "<Figure size 1080x360 with 3 Axes>"
      ]
     },
     "metadata": {
      "needs_background": "light"
     },
     "output_type": "display_data"
    }
   ],
   "source": [
    "fig = plot.figure(figsize=(15,5))\n",
    "\n",
    "fig.add_subplot(131)\n",
    "plot.xlim(-1, 2)\n",
    "plot.ylim(-1, 2)\n",
    "plot.scatter([0,1,1],[1,0,1],color='g', marker = '+')\n",
    "plot.scatter([0],[0],color='r', marker = 'o')\n",
    "plot.plot([-1, 1.5], [1.5, -1])\n",
    "plot.title('m1 = A or B')\n",
    "fig.add_subplot(132)\n",
    "plot.xlim(-1, 2)\n",
    "plot.ylim(-1, 2)\n",
    "plot.scatter([1,0,0],[0,1,0],color='g', marker = '+')\n",
    "plot.scatter([1],[1],color='r', marker = 'o')\n",
    "plot.plot([-1, 2.5], [2.5, -1])\n",
    "plot.title('m2 = !A or !B')\n",
    "fig.add_subplot(133)\n",
    "plot.xlim(-1, 2)\n",
    "plot.ylim(-1, 2)\n",
    "plot.scatter([0,0,1],[0,1,0],color='r', marker = 'o')\n",
    "plot.scatter([1],[1],color='g', marker = '+')\n",
    "plot.plot([-1, 2.5], [2.5, -1])\n",
    "plot.title('m3 = A and B')\n",
    "plot.show()"
   ]
  },
  {
   "cell_type": "markdown",
   "metadata": {},
   "source": [
    "On voit bien que pour ces fonctions, on peut tout à fait séparer les bonnes et les mauvaises valeurs par une simple droite.\n",
    "\n",
    "Accessoirement, on a aussi : A xor B = (A ou B) et (!A ou !B) = m3(m1(A, B), m2(A, B)). Autrement dit, on peut composer des modèles de régression logisique à base linéaire les uns après les autres et avoir un résultat non linéaire !\n",
    "\n",
    "La preuve par l'exemple:"
   ]
  },
  {
   "cell_type": "code",
   "execution_count": 11,
   "metadata": {},
   "outputs": [],
   "source": [
    "def sigmoid(x):\n",
    "    return 1 / (1+np.exp(-x))\n",
    "\n",
    "def probability(x, theta):\n",
    "    return sigmoid(np.dot(x, theta))\n",
    "\n",
    "def train_model(x, y, epochs = 1000, alpha = 0.1):\n",
    "    # Pas vraiment besoin de normaliser...\n",
    "    m,n = x.shape\n",
    "    x = np.concatenate([np.ones((m, 1)), x], axis = 1)\n",
    "    thetas = np.zeros((n+1, 1))\n",
    "    for i in range(epochs):\n",
    "        errors = probability(x, thetas) - y\n",
    "        grad = np.dot(x.T, errors) / m\n",
    "        thetas -= alpha * grad\n",
    "    return thetas"
   ]
  },
  {
   "cell_type": "code",
   "execution_count": 12,
   "metadata": {},
   "outputs": [
    {
     "name": "stdout",
     "output_type": "stream",
     "text": [
      "0 xor 0 = 0\n",
      "0 xor 1 = 1\n",
      "1 xor 0 = 1\n",
      "1 xor 1 = 0\n"
     ]
    }
   ],
   "source": [
    "space_set = np.array([[0,0],[0,1],[1,0],[1,1]])\n",
    "\n",
    "a_or_b         = train_model(space_set, np.array([[0],[1],[1],[1]]))\n",
    "not_a_or_not_b = train_model(space_set, np.array([[1],[1],[1],[0]]))\n",
    "a_and_b        = train_model(space_set, np.array([[0],[0],[0],[1]]))\n",
    "\n",
    "def model_or(a, b): return probability(np.array([[1,a,b]]), a_or_b).item()\n",
    "def model_not_or(a, b): return probability(np.array([[1,a,b]]), not_a_or_not_b).item()\n",
    "def model_and(a, b): return probability(np.array([[1,a,b]]), a_and_b).item()\n",
    "\n",
    "def model_xor(a,b): return model_and(model_or(a,b), model_not_or(a,b)) > .5\n",
    "\n",
    "for i in space_set:\n",
    "    print(\"%i xor %i = %i\"%(i[0], i[1], model_xor(i[0], i[1])))"
   ]
  },
  {
   "cell_type": "markdown",
   "metadata": {},
   "source": [
    "Voilà. On a entrainé 3 modèles en apprentissage supervisé, qu'on a combiné pour avoir un xor. C'est bien :)\n",
    "\n",
    "### L'importance de la sigmoide (ou autre fonction non linéaire)\n",
    "Il convient de noter qu'empiler des régressions linéaires ne sert à rien. Faire une combinaison linéaire de combinaisons linéaires, ça reste une simple combinaison linéaire. Les facteurs sont juste différents.\n",
    "\n",
    "Ce qui fait que ça marche, c'est la cassure de la linéarité lors du passage à la sigmoide. On appelle ce passage _activation_, et la sigmoide n'est qu'une des _fonctions d'activation_ possibles.\n",
    "\n",
    "## Retour à la mise en situation\n",
    "### Les 3 fonctions intermédiaires\n",
    "Dans ce cas précis, c'est facile, on connaissait déjà les trois fonctions à modéliser - ou on les a deviné par un travail de réflexion en amont. Mais est-ce que le système ne pourrait pas, tout seul, trouver ces quelques fonctions à notre place ? En gros, faire une régression logistique à deux étages quoi !\n",
    "\n",
    "### Modèle\n",
    "Le modèle qu'on va essayer de coller est défini par $\\theta_0, ..., \\theta_8$ (y'en a 9 quoi) tels que:\n",
    "\n",
    "$\\begin{cases}\n",
    "f_1(a,b) = \\theta_0 + \\theta_1*a + \\theta_2 * b\\\\\n",
    "s_1(a,b) = \\sigma(f1(a,b))\\\\\n",
    "f_2(a,b) = \\theta_3 + \\theta_4*a + \\theta_5 * b\\\\\n",
    "s_2(a,b) = \\sigma(f2(a,b))\\\\\n",
    "f_3(a,b) = \\theta_6 + \\theta_7*s_1(a,b) + \\theta_8 * s_2(a,b)\\\\\n",
    "s_3(a,b) = \\sigma(f3(a,b))\n",
    "\\end{cases}$\n",
    "\n",
    "avec $\\sigma$ la fonction sigmoide.\n",
    "\n",
    "Le coût se défini par :\n",
    "\n",
    "$J(\\theta_0,...,\\theta_8) = -\\frac{1}{m}\\sum_{a,b \\in X_{train}\\\\\n",
    "y \\in Y_{train}}\\left[y.log(s_3(a,b)) + (1-y).log(1-s_3(a,b))\\right]$\n",
    "\n",
    "On pourrait bien sur faire une fonction globale en détaillant tout, mais ça va être imbuvable, surtout pour la partie qui arrive : la dérivée du coût"
   ]
  },
  {
   "cell_type": "markdown",
   "metadata": {},
   "source": [
    "### Le gradient\n",
    "\n",
    "Plutôt que de se palucher toute la dérivée d'un coup, on va partir de la propriété suivante : $(f(g(x))' = f'(g(x)) * g'(x)$, la dérivée d'une composée de fonctions.\n",
    "\n",
    "* la dérivée de $y.log(x) + (1-y).log(1-x)$ est $\\frac{y}{x} - \\frac{1-y}{1-x}$\n",
    "  * donc $J' = -\\frac{1}{m}\\sum\\left[\\frac{y}{s_3} - \\frac{1-y}{1-s_3}\\right] * s_3'$\n",
    "* la dérivée de $\\sigma(x)$ est $\\sigma(x).(1-\\sigma(x))$\n",
    "  * donc $s_3' = s_3.(1-s_3).f_3'$\n",
    "* $f_3' = \\theta_6'$ si on dérive par rapport à $\\theta_6$\n",
    "* $f_3' = s_1.\\theta_7'$ si on dérive par rapport à $\\theta_7$\n",
    "* $f_3' = s_2.\\theta_8'$ si on dérive par rapport à $\\theta_8$\n",
    "\n",
    "On récapitule : on a trouvé les dérivées de $J$ par rapport aux trois derniers paramètres $\\theta$.\n",
    "\n",
    "On continue de remonter pour les autres paramètres :\n",
    "\n",
    "* $f_3' = \\theta_7 * s_1'$ si on dérive par rapport à $s_1$\n",
    "* $s_1' = s_1.(1-s_1).f_1'$\n",
    "* $f_1' = \\theta_0'$ si on dérive par $\\theta_0$\n",
    "* $f_1' = a.\\theta_1'$ si on dérive par $\\theta_1$\n",
    "* $f_1' = b.\\theta_2'$ si on dérive par $\\theta_2$\n",
    "\n",
    "Et idem pour la partie $s_2, f_2, ...$\n",
    "\n",
    "\n",
    "### Implémentation\n",
    "\n",
    "Comme ça fait beaucoup d'un coup et que c'est pas forcément évident, l'implémentation ci-dessous traite volontairement tous les exemples d'entrainement un par un. Ca va être plus long de les calculer et de les sommer, mais au moins ça sera plus clair qu'avec des produits matriciels. _Ca sera pour la semaine prochaine_\n",
    "\n",
    "Et pour ne pas faire d'erreurs, on va y aller par étapes.\n",
    "\n",
    "* Tout d'abord la fonction \"résultat\", ou \"passe vers l'avant\", qui passe à travers f1, s1, f2, s2, f3 et s3:"
   ]
  },
  {
   "cell_type": "code",
   "execution_count": 6,
   "metadata": {},
   "outputs": [],
   "source": [
    "def f(a, b, thetas):\n",
    "    # Première fonction\n",
    "    f1 = thetas[0] + thetas[1] * a + thetas[2] * b\n",
    "    s1 = sigmoid(f1)\n",
    "\n",
    "    # Deuxième fonction\n",
    "    f2 = thetas[3] + thetas[4] * a + thetas[5] * b\n",
    "    s2 = sigmoid(f2)\n",
    "\n",
    "    # Troisième fonction\n",
    "    f3 = thetas[6] + thetas[7] * s1 + thetas[8] * s2\n",
    "    s3 = sigmoid(f3)\n",
    "    return s3, f3, s2, f2, s1, f1"
   ]
  },
  {
   "cell_type": "markdown",
   "metadata": {},
   "source": [
    "* Maintenant, le calcul du gradient \"en marche arrière\" :"
   ]
  },
  {
   "cell_type": "code",
   "execution_count": 7,
   "metadata": {},
   "outputs": [],
   "source": [
    "def grad_f(a, b, y, thetas, f1, s1, f2, s2, f3, s3):\n",
    "    dthetas = np.zeros(9)\n",
    "    # Dérivées du cout (notation: dZ = dérivée de J par rapport à Z)\n",
    "    # Partie f3\n",
    "    ds3 = y/s3 - (1-y)/(1-s3)\n",
    "    df3 = ds3 * s3 * (1-s3)\n",
    "    dthetas[6] += df3\n",
    "    dthetas[7] += df3 * s1\n",
    "    dthetas[8] += df3 * s2\n",
    "\n",
    "    # Partie f1\n",
    "    ds1 = thetas[7] * df3\n",
    "    df1 = ds1 * s1 * (1-s1)\n",
    "    dthetas[0] += df1\n",
    "    dthetas[1] += df1 * a\n",
    "    dthetas[2] += df1 * b\n",
    "\n",
    "    # Partie f2\n",
    "    ds2 = thetas[8] * df3\n",
    "    df2 = ds2 * s2 * (1-s2)\n",
    "    dthetas[3] += df2\n",
    "    dthetas[4] += df2 * a\n",
    "    dthetas[5] += df2 * b\n",
    "    return dthetas"
   ]
  },
  {
   "cell_type": "markdown",
   "metadata": {},
   "source": [
    "* Et pour finir, le modèle qui fait une descente de gradient - on reviendra sur l'initialisation des thetas"
   ]
  },
  {
   "cell_type": "code",
   "execution_count": 8,
   "metadata": {},
   "outputs": [],
   "source": [
    "def two_layers(X, Y, epochs = 1000, alpha = 0.1):\n",
    "    thetas = np.random.rand(9)\n",
    "    thetas[0] = thetas[3] = thetas[6] = 0\n",
    "    costs = np.zeros(epochs)\n",
    "    \n",
    "    for i in range(epochs):\n",
    "        # Traitement des exemples 1 par 1, pour s'y retrouver\n",
    "        dthetas = np.zeros(9)\n",
    "        for j in range(X.shape[0]):\n",
    "            a,b = X[j,:]\n",
    "            y = Y[j]\n",
    "            # Calcul du résultat \"en avant\"\n",
    "            s3, f3, s2, f2, s1, f1 = f(a,b,thetas)\n",
    "            costs[i] += y * np.log(s3) + (1-y)*np.log(1-s3)\n",
    "            # Calcul du gradient \"en arrière\"\n",
    "            dthetas += grad_f(a,b,y, thetas, f1, s1, f2, s2, f3, s3)\n",
    "        # Division par -m comme le veut la formule de J\n",
    "        dthetas *= -1/X.shape[0]\n",
    "\n",
    "        # Descente de gradient\n",
    "        thetas -= alpha * dthetas\n",
    "\n",
    "    return thetas, costs / -X.shape[0]"
   ]
  },
  {
   "cell_type": "markdown",
   "metadata": {},
   "source": [
    "C'est parti : on va entrainer le modèle, afficher l'évolution du coût, et regarder le résultat."
   ]
  },
  {
   "cell_type": "code",
   "execution_count": 9,
   "metadata": {},
   "outputs": [
    {
     "data": {
      "image/png": "[encoded data removed]",
      "text/plain": [
       "<Figure size 432x288 with 1 Axes>"
      ]
     },
     "metadata": {
      "needs_background": "light"
     },
     "output_type": "display_data"
    },
    {
     "name": "stdout",
     "output_type": "stream",
     "text": [
      "0 xor 0 = False\n",
      "0 xor 1 = True\n",
      "1 xor 0 = True\n",
      "1 xor 1 = False\n"
     ]
    }
   ],
   "source": [
    "iterations = 3000\n",
    "np.random.seed(2)\n",
    "thetas, costs = two_layers(space_set, np.array([0,1,1,0]), epochs = iterations, alpha = 0.5)\n",
    "plot.plot(np.arange(iterations),costs)\n",
    "plot.title('Cost by iterations')\n",
    "plot.show()\n",
    "\n",
    "for i in space_set:\n",
    "    print(\"%i xor %i = %s\" %(i[0], i[1], f(i[0], i[1], thetas)[0] > .5))\n"
   ]
  },
  {
   "cell_type": "markdown",
   "metadata": {},
   "source": [
    "Alors OK, c'est du supervisé. Mais il faut bien voir ce qu'a fait le modèle : il a\n",
    "* trouvé deux fonctions f1 et f2 appliquées aux entrées a et b\n",
    "* trouvé une fonction f3 appliquée aux résultats de f1 et f2\n",
    "* et tel que le tout fasse un xor\n",
    "\n",
    "On va afficher la table de verité pour chacune et les identifier."
   ]
  },
  {
   "cell_type": "code",
   "execution_count": 10,
   "metadata": {},
   "outputs": [
    {
     "name": "stdout",
     "output_type": "stream",
     "text": [
      "f1(0, 0) = 0\n",
      "f1(0, 1) = 0\n",
      "f1(1, 0) = 0\n",
      "f1(1, 1) = 1\n",
      "---\n",
      "f2(0, 0) = 0\n",
      "f2(0, 1) = 1\n",
      "f2(1, 0) = 1\n",
      "f2(1, 1) = 1\n",
      "---\n",
      "f3(0, 0) = 0\n",
      "f3(0, 1) = 1\n",
      "f3(1, 0) = 0\n",
      "f3(1, 1) = 0\n"
     ]
    }
   ],
   "source": [
    "def f_i(a, b, thetas, i):\n",
    "    return sigmoid(thetas[3*i-3] + a * thetas[3*i-2] + b*thetas[3*i-1])\n",
    "\n",
    "for i in space_set:\n",
    "    print(\"f1(%i, %i) = %i\" %(i[0], i[1], f_i(i[0], i[1],thetas, 1)>.5))\n",
    "print('---')\n",
    "for i in space_set:\n",
    "    print(\"f2(%i, %i) = %i\" %(i[0], i[1], f_i(i[0], i[1],thetas, 2)>.5))\n",
    "print('---')\n",
    "for i in space_set:\n",
    "    print(\"f3(%i, %i) = %i\" %(i[0], i[1], f_i(i[0], i[1],thetas, 3)>.5))\n",
    "    "
   ]
  },
  {
   "cell_type": "markdown",
   "metadata": {},
   "source": [
    "* f1 correspond à \"A et B\" : le modèle a décidé qu'il aurait besoint d'un AND\n",
    "* f2 correspond à \"A ou B\" : le modèle a décidé qu'il aurait besoint d'un OR\n",
    "* f3 correspond à \"non F1 et F2\". Littéralement : je n'ai pas à la fois A et B mais j'ai au moins un des deux : c'est un XOR !\n",
    "\n",
    "Note : suivant les valeurs du seed, on peut obtenir des résultats différents : le système trouvera peut-être un OR, un NAND et un AND; ou toute autre combinaison qui marche bien.\n",
    "\n",
    "Contrairement à une régression classique, ici on a eu besoin de sous-résultats supplémentaires, mais le système a appris de lui-même quels étaient les sous-résultats les plus pertinents. Oui, c'est du supervisé, c'est même un réseau de neurones ultra spécifique. Mais conceptuellement, f3 est une régression logistique classique pour laquelle le système a déterminé tout seul quelles seraient les meilleures entrées.\n",
    "\n",
    "Voilà qui achève de faire le pont entre le sujet de la semaine (le non-supervisé) et celui de la semaine prochaine (les réseaux de neurones)"
   ]
  }
 ],
 "metadata": {
  "kernelspec": {
   "display_name": "Python 3",
   "language": "python",
   "name": "python3"
  },
  "language_info": {
   "codemirror_mode": {
    "name": "ipython",
    "version": 3
   },
   "file_extension": ".py",
   "mimetype": "text/x-python",
   "name": "python",
   "nbconvert_exporter": "python",
   "pygments_lexer": "ipython3",
   "version": "3.8.6"
  }
 },
 "nbformat": 4,
 "nbformat_minor": 4
}
