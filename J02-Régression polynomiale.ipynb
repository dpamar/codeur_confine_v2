{
 "cells": [
  {
   "cell_type": "markdown",
   "metadata": {},
   "source": [
    "![](brain.png)"
   ]
  },
  {
   "cell_type": "code",
   "execution_count": 1,
   "metadata": {},
   "outputs": [],
   "source": [
    "import numpy as np\n",
    "import matplotlib.pyplot as plot"
   ]
  },
  {
   "cell_type": "markdown",
   "metadata": {},
   "source": [
    "# Régression polynomiale (et autres combinaisons)"
   ]
  },
  {
   "cell_type": "markdown",
   "metadata": {},
   "source": [
    "## Mise en situation\n",
    "\n",
    "Je travaille sur un moteur de calculs : on traite un volume d'information (des lignes dans une base de données) pour en calculer certaines mesures.\n",
    "\n",
    "Nous sommes face au problème suivant : quel pricing adpoter ? Plus exactement, en fonction du calcul demandé, quel serait le temps de calcul nécessaire à facturer à nos clients.\n",
    "\n",
    "Mon rôle va être de modéliser une fonction qui estime le temps de calcul par rapport aux caractéristiques du calcul. J'ai déjà essayé une regression linéaire, sans succès :("
   ]
  },
  {
   "cell_type": "markdown",
   "metadata": {},
   "source": [
    "## Problème formel\n",
    "\n",
    "Au lieu d'une combinaison linéaire, on va chercher une autre fonction, qui pourra \n",
    "* multiplier des variables entre elles\n",
    "* diviser des variables entre elles\n",
    "* appliquer des opérations comme la racine carrée, cubique, etc...\n",
    "\n",
    "Et pour le coup, la méthode va être toute simple : on va enrichir notre jeu de données, tout simplement.\n",
    "\n",
    "Là où on avait auparavant $x_1, x_2, ..., x_n$, on va ajouter de nouvelles mesures comme $x_1^2, x_2*x_3, \\frac{x_4}{x_5}, \\sqrt{x_6}, ...$"
   ]
  },
  {
   "cell_type": "markdown",
   "metadata": {},
   "source": [
    "### Le piège de la dérivée\n",
    "\n",
    "Pour rappel, on avait une fonction de coût $J$, qu'on dérivait pour obtenir une nouvelle formule, et on en faisait une équation à résoudre.\n",
    "\n",
    "Si maintenant $\\theta_1.x_1 + \\theta_2.x_2$ est completé par $\\theta_3.x_3$ avec $x_3 = \\frac{x_1}{x_2}$, est-ce que ça ne fausserait pas notre calcul de dérivée ? Après tout, dériver une fraction c'est un peu différent ...\n",
    "\n",
    "La réponse est non. Ce qu'il faut bien réaliser, c'est qu'on dérive la fonction $J$, non pas par rapport aux valeurs $x$, qui sont connues et constantes, mais par rapport aux valeurs de $\\theta$, qui pour le coup sont toujours multipliées par des scalaires uniquement."
   ]
  },
  {
   "cell_type": "markdown",
   "metadata": {},
   "source": [
    "### Simulation rapide\n",
    "\n",
    "Validons le concept, avec des petits exemples rapides"
   ]
  },
  {
   "cell_type": "code",
   "execution_count": 2,
   "metadata": {},
   "outputs": [
    {
     "name": "stdout",
     "output_type": "stream",
     "text": [
      "Exemple 1: a=62, b=21, c=7, f(a,b,c)=7000\n",
      "theta = [-21485.11519544    243.7114169     241.31541838    593.46549949]\n"
     ]
    }
   ],
   "source": [
    "\n",
    "# Trouve le meilleur modèle par rapport à X et Y\n",
    "def solve_model(X, Y) : \n",
    "    # On commence par ajouter une colonne x0 = 1\n",
    "    Xtmp = np.concatenate([np.ones((X.shape[0],1)), X], axis = 1)\n",
    "    # Puis on calcule theta\n",
    "    return np.dot(np.dot(np.linalg.pinv(np.dot(Xtmp.T, Xtmp)), Xtmp.T), Y)\n",
    "\n",
    "\n",
    "num_training_samples = 1000\n",
    "\n",
    "\n",
    "# Données et fonction fictives : pour a,b,c donnés, on calcule souhaite calculer f(a,b,c) = 10 + 3a + 5ab + 6c^2\n",
    "# on charche 1000 exemples a,b,c, et le résultat correspondant\n",
    "X_demo = np.floor(np.random.rand(num_training_samples, 3)*100)\n",
    "Y_demo = (10 + X_demo[:,0] * 3 + X_demo[:,0] * X_demo[:,1] * 5 + X_demo[:,2] ** 2 *6).reshape(num_training_samples, 1)\n",
    "\n",
    "print(\"Exemple 1: a=%i, b=%i, c=%i, f(a,b,c)=%i\" % (X_demo[0,0],X_demo[0,1],X_demo[0,2],Y_demo[0]))\n",
    "\n",
    "\n",
    "# Résolution linéaire : donne un résultat complètement faux\n",
    "theta_demo = solve_model(X_demo, Y_demo)\n",
    "print(\"theta = \" + str(theta_demo[:,0]))\n"
   ]
  },
  {
   "cell_type": "code",
   "execution_count": 3,
   "metadata": {},
   "outputs": [
    {
     "name": "stdout",
     "output_type": "stream",
     "text": [
      "theta = [10.  3. -0. -0.  0.  5.  0.  0.  0.  6.]\n",
      "Note the values, and map them to 1, a, b, c, a^2, ab, ac, b^2, bc, c^2.\n",
      "Remove zeros : 10 + 3a + 5ab + 6c^2 !!!\n",
      "Noise level: 0.001, theta = [ 9.  3. -0.  0.  0.  5.  0.  0. -0.  6.]\n",
      "Noise level: 0.01, theta = [18.  2. -0. -1.  0.  5. -0.  0. -0.  6.]\n",
      "Noise level: 0.1, theta = [-243.   -2.    7.   15.    0.    5.    0.    0.   -0.    6.]\n"
     ]
    }
   ],
   "source": [
    "# Ajout automatique de toutes les combinaisons de valeurs, au second degré\n",
    "def add_2nd_degree_features(X):\n",
    "    result = X\n",
    "    for i in range(X.shape[1]):\n",
    "        for j in range(i, X.shape[1]):\n",
    "            result = np.concatenate([result, (X[:,i]*X[:,j]).reshape(X.shape[0],1)], axis=1)\n",
    "    return result\n",
    "\n",
    "# Regression linéaire sur des données à enrichir au second degré\n",
    "def solve_model_2nd_degree(X, Y) :\n",
    "    # On commence par enrichir notre jeu de données au second degré\n",
    "    Xtmp = add_2nd_degree_features(X)\n",
    "    # On y ajoute une colonne x0 = 1\n",
    "    Xtmp = np.concatenate([np.ones((X.shape[0],1)), Xtmp], axis = 1)\n",
    "    # Puis on calcule theta\n",
    "    return np.dot(np.dot(np.linalg.pinv(np.dot(Xtmp.T, Xtmp)), Xtmp.T), Y)\n",
    "\n",
    "# Nouvelle tentative\n",
    "theta_demo = solve_model_2nd_degree(X_demo, Y_demo)\n",
    "print(\"theta = \" + str(np.round(theta_demo[:,0])))\n",
    "print(\"Note the values, and map them to 1, a, b, c, a^2, ab, ac, b^2, bc, c^2.\\nRemove zeros : 10 + 3a + 5ab + 6c^2 !!!\")\n",
    "\n",
    "\n",
    "# nouveau test, avec du bruit ( ratio : 1 +/- rate)\n",
    "def generate_noise(matrix, rate):\n",
    "    return matrix * (1-rate + np.random.rand(matrix.shape[0], 1) * rate * 2)\n",
    "\n",
    "for noise_rate in [0.001, 0.01, 0.1]:\n",
    "    X_noise = X_demo\n",
    "    Y_noise = generate_noise(Y_demo, noise_rate)\n",
    "    theta_noise = solve_model_2nd_degree(X_noise, Y_noise)\n",
    "    print(\"Noise level: \" + str(noise_rate) + \", theta = \" + str(np.round(theta_noise[:,0])))\n"
   ]
  },
  {
   "cell_type": "markdown",
   "metadata": {},
   "source": [
    "### Analyse du resultat\n",
    "\n",
    "Le résultat fonctionne. Par contre, le bruit a un impact beaucoup plus rapide sur le résultat : même une variation de +/- 1% va commencer à largement fausser le modèle !\n",
    "\n",
    "Plus le modèle est complexe, et plus il dispose d'une grande latitude pour s'adapter à la demande. On en reparlera en même temps que la notion d'_overfit_. En deux images :"
   ]
  },
  {
   "cell_type": "code",
   "execution_count": 4,
   "metadata": {},
   "outputs": [
    {
     "data": {
      "image/png": "[encoded data removed]",
      "text/plain": [
       "<Figure size 432x288 with 2 Axes>"
      ]
     },
     "metadata": {
      "needs_background": "light"
     },
     "output_type": "display_data"
    }
   ],
   "source": [
    "def evaluate(X, model):\n",
    "    return np.dot(np.concatenate([np.ones((X.shape[0], 1)), X], axis=1), model)\n",
    "\n",
    "def cost(X, model, Y):\n",
    "    err = evaluate(X, model) - Y\n",
    "    return np.sum(err**2) / 2 / X.shape[0]\n",
    "\n",
    "# Generation de 8 points presque alignés\n",
    "np.random.seed(1)\n",
    "pts = 8\n",
    "xpoints = (np.arange(pts)+1).reshape(pts, 1)\n",
    "ypoints = xpoints * (0.9 + np.random.rand(pts, 1) * 0.2)\n",
    "\n",
    "fig = plot.figure()\n",
    "\n",
    "# Figure 1 : un modèle de degré 1, avec une faible erreur\n",
    "fig.add_subplot(1, 2, 1)\n",
    "# Affichage des points du dataset d'entrainement\n",
    "p = plot.plot(xpoints, ypoints, \"r+\")\n",
    "# calcul du modele\n",
    "xdata = xpoints\n",
    "theta = solve_model(xdata, ypoints)\n",
    "# affichage de la courbe\n",
    "x = np.arange(1,10, 0.1).reshape(-1, 1)\n",
    "y = evaluate(x, theta)\n",
    "p = plot.plot(x, y)\n",
    "p = plot.title('Degree 1, cost: %f' % (cost(xdata, theta, ypoints)))\n",
    "\n",
    "#figure 2 : un modèle de degré élevé, avec une erreur nulle\n",
    "fig.add_subplot(1, 2, 2)\n",
    "# plot points\n",
    "p = plot.plot(xpoints, ypoints, \"r+\")\n",
    "# calcul du modele\n",
    "xdata = np.concatenate([xpoints.reshape(pts,1)**i for i in range(1, pts+1)], axis = 1)\n",
    "theta = solve_model(xdata, ypoints)\n",
    "# affichage de la courbe\n",
    "x = np.arange(1,9, 0.1).reshape(-1, 1)\n",
    "y = evaluate(np.concatenate([x**i for i in range(1, pts+1)], axis = 1), theta)\n",
    "p = plot.plot(x, y)\n",
    "p = plot.title('Degree 8, cost: %f' % (cost(xdata, theta, ypoints)))"
   ]
  },
  {
   "cell_type": "markdown",
   "metadata": {},
   "source": [
    "Je cherche le modèle qui colle au mieux à ma donnée.\n",
    "\n",
    "* La figure de gauche montre une ligne qui passe plus ou moins bien dans à travers tous les points. Le modèle colle plutôt bien.\n",
    "* Celle de droite montre un modèle de degré beaucoup plus élevé. Il colle vraiment mieux à mes données... mais en terme de but recherché on n'y est pas du tout !!!\n",
    "\n",
    "Dans notre simulation, si les données sont parfaites, on voit bien que le système arrivera à éliminer les termes inutiles ($\\theta_i = 0$).\n",
    "\n",
    "Mais les données sont rarement parfaites. Et pour compenser le moindre bruit dans les données, le système va se servir de tous ces termes inutiles pour ajuster au mieux son erreur.\n",
    "\n",
    "En pratique, si on sait comment composer les différentes mesures, c'est préférable à une combinaison un peu bourrin de tous les termes sur plusieurs degrés.\n",
    "\n",
    "De plus, toutes ces combinaisons font exploser le nombre de mesures. Pour $n$ mesures de degré 1, on en aura $\\frac{n^2+3n}{2}$ au degré 2, $\\frac{n^3+6n^2+11n}{6}$ au degré 3, etc... Et l'inversion de la matrice est elle-même une opération en $O(t^3)$ par rapport à la taille $t$ de la matrice, donc les calculs seront de plus en plus long si on monte en degré : pour un degré $d$, l'inversion de la matrice est en $O(n^{3d})$"
   ]
  },
  {
   "cell_type": "markdown",
   "metadata": {},
   "source": [
    "## Retour à la mise en situation\n",
    "\n",
    "### Chargement des données\n",
    "On a un jeu de données : pour chaque calcul réalisé dans le passé on possède\n",
    "* le nombre de lignes traitées (en milliers)\n",
    "* un flag qui indique si la mesure M1 a été réalisée\n",
    "* un flag qui indique si la mesure M2 a été réalisée\n",
    "* un flag qui indique si la mesure M3 a été réalisée\n",
    "* la durée du calcul, en secondes"
   ]
  },
  {
   "cell_type": "code",
   "execution_count": 5,
   "metadata": {},
   "outputs": [
    {
     "name": "stdout",
     "output_type": "stream",
     "text": [
      "1000 exemples chargés\n"
     ]
    }
   ],
   "source": [
    "data = np.load('data/d02_data.npy')\n",
    "# chargement de X (toutes les colonnes sauf la dernière) et de Y (dernière colonne)\n",
    "Xtrain = data[:,0:-1]\n",
    "Ytrain = data[:,-1].reshape(-1,1)\n",
    "\n",
    "print(str(Xtrain.shape[0]) + ' exemples chargés')"
   ]
  },
  {
   "cell_type": "markdown",
   "metadata": {},
   "source": [
    "### Analyse graphique des données\n",
    "On va regarder rapidement quels sont les impacts des différentes opérations m1, m2 et m3 par rapport au nombre de lignes, en ne visualisant que les cas où une seule opération est réalisée."
   ]
  },
  {
   "cell_type": "code",
   "execution_count": 6,
   "metadata": {},
   "outputs": [
    {
     "data": {
      "image/png": "[encoded data removed]",
      "text/plain": [
       "<Figure size 720x2160 with 3 Axes>"
      ]
     },
     "metadata": {
      "needs_background": "light"
     },
     "output_type": "display_data"
    }
   ],
   "source": [
    "fig = plot.figure(figsize=(10,30))\n",
    "\n",
    "# Selection des runs \"M1 only\"\n",
    "indices = np.where(np.all([Xtrain[:,1] == 1, Xtrain[:,2] == 0, Xtrain[:,3] == 0],axis=0))\n",
    "m1plot = fig.add_subplot(311)\n",
    "m1plot.scatter(Xtrain[indices,0], Ytrain[indices])\n",
    "t = plot.title('M1 only')\n",
    "\n",
    "# Selection des runs \"M2 only\"\n",
    "indices = np.where(np.all([Xtrain[:,1] == 0, Xtrain[:,2] == 1, Xtrain[:,3] == 0],axis=0))\n",
    "m2plot = fig.add_subplot(312)\n",
    "m2plot.scatter(Xtrain[indices,0], Ytrain[indices])\n",
    "t = plot.title('M2 only')\n",
    "\n",
    "# Selection des runs \"M3 only\"\n",
    "indices = np.where(np.all([Xtrain[:,1] == 0, Xtrain[:,2] == 0, Xtrain[:,3] == 1],axis=0))\n",
    "m3plot = fig.add_subplot(313)\n",
    "m3plot.scatter(Xtrain[indices,0], Ytrain[indices])\n",
    "t = plot.title('M3 only')"
   ]
  },
  {
   "cell_type": "markdown",
   "metadata": {},
   "source": [
    "Bon, ok, encore une fois, ce n'est pas un vrai jeu de données, c'est pour l'exemple.\n",
    "\n",
    "On remarque que l'impact du nombre de lignes sur M1 est plutôt linéaire, vaguement quadratique ou cubique pour les deux autres.\n",
    "\n",
    "Maintenant, laissons le modèle determiner tout ça tout seul comme un grand. Mais comme expliqué, plutôt que de faire exploser les calculs, on va réfléchir aux mesures à ajouter.\n",
    "\n",
    "Puisque m1, m2 et m3 sont des valeurs dans {0,1}, il n'y a pas grand intérêt à en calculer les puissances ($0^n = 0, 1^n = 1$ pour tout $n > 1$).\n",
    "\n",
    "De même, je sais (connaissance business) que les mesures sont indépendantes, et donc il n'y a pas grand intérêt à multiplier les m1, m2, m3 entre eux.\n",
    "\n",
    "Le reste peut être utile au calcul - même si on suspecte certains résultats grace aux graphiques ci-dessus. On va néanmoins entrainer différents modèles pour différentes valeurs du degré voulu."
   ]
  },
  {
   "cell_type": "code",
   "execution_count": 7,
   "metadata": {},
   "outputs": [
    {
     "name": "stdout",
     "output_type": "stream",
     "text": [
      "For degree 1: cost is 104392.40016211515\n",
      "For degree 2: cost is 2863.645769381509\n",
      "For degree 3: cost is 6.33128733785399e-20\n",
      "For degree 4: cost is 1.938346978301979e-17\n",
      "For degree 5: cost is 5.93674375173922e-14\n",
      "For degree 6: cost is 3.589363819271707e-11\n",
      "For degree 7: cost is 0.1572163011171587\n",
      "For degree 8: cost is 1371.6510512400876\n",
      "For degree 9: cost is 2045.1664006684825\n",
      "For degree 10: cost is 3042.865442071446\n"
     ]
    },
    {
     "data": {
      "image/png": "[encoded data removed]",
      "text/plain": [
       "<Figure size 432x288 with 1 Axes>"
      ]
     },
     "metadata": {
      "needs_background": "light"
     },
     "output_type": "display_data"
    }
   ],
   "source": [
    "def enrich_data(X, degree) :\n",
    "    m = X.shape[0]\n",
    "    # On commence par calculer les puissances de la premiere colonne\n",
    "    Xpow = np.concatenate([X[:,0].reshape(m, 1)**i for i in range(1,degree+1)], axis = 1)\n",
    "    # On calcule ensuite les produits avec les m1, m2, m3\n",
    "    Xm1 = Xpow**1 * X[:,1].reshape(m,1)\n",
    "    Xm2 = Xpow * X[:,2].reshape(m,1)\n",
    "    Xm3 = Xpow * X[:,3].reshape(m,1)\n",
    "    # On construit une matrice avec tout ça\n",
    "    Xtmp = np.concatenate([Xpow, Xm1, Xm2, Xm3], axis = 1)\n",
    "    # On y ajoute une colonne x0 = 1\n",
    "    Xtmp = np.concatenate([np.ones((m, 1)), Xtmp], axis = 1)\n",
    "    return Xtmp\n",
    "    \n",
    "def solve_model_nth_degree(X, Y, degree) :\n",
    "    # On enrichit les données\n",
    "    Xenrich = enrich_data(X, degree)\n",
    "    # Puis on calcule theta\n",
    "    return np.dot(np.dot(np.linalg.pinv(np.dot(Xenrich.T, Xenrich)), Xenrich.T), Y)\n",
    "\n",
    "# Calcul du coût\n",
    "def cost(model, X, Y, degree) :\n",
    "    err = np.dot(enrich_data(X, degree), model) - Y\n",
    "    return np.dot(err.T, err)[0][0] / 2 / X.shape[0]\n",
    "\n",
    "degrees = range(1, 11)\n",
    "costs = np.zeros(10)\n",
    "\n",
    "for deg in degrees : \n",
    "    theta = solve_model_nth_degree(Xtrain, Ytrain, deg)\n",
    "    costs[deg-1] = cost(theta, Xtrain, Ytrain, deg)\n",
    "    print(('For degree %i: cost is %s') % (deg, costs[deg-1]))\n",
    "\n",
    "plot.yscale('log')\n",
    "plot.title('Cost, by model degree')\n",
    "p = plot.plot(degrees, costs)"
   ]
  },
  {
   "cell_type": "markdown",
   "metadata": {},
   "source": [
    "On remarque que le modèle est vraiment optimal pour un degré 3. Regardons les valeurs de $\\theta$ pour ce degré là"
   ]
  },
  {
   "cell_type": "code",
   "execution_count": 8,
   "metadata": {},
   "outputs": [
    {
     "name": "stdout",
     "output_type": "stream",
     "text": [
      "[[120.    0.2  -0.    0.   10.    0.   -0.   -0.    1.   -0.   -0.    0.\n",
      "    5. ]]\n"
     ]
    }
   ],
   "source": [
    "theta = solve_model_nth_degree(Xtrain, Ytrain, 3)\n",
    "print(np.round(theta, 2).T)"
   ]
  },
  {
   "cell_type": "markdown",
   "metadata": {},
   "source": [
    "Analyse du résultat : \n",
    "* il y a un coût fixe de 120 secondes + 0.2 x le nombre de milliers de lignes (probablement le démarrage de la machine et le chargement des données)\n",
    "* il y a ensuite un cout de 10 x milliers de lignes sur le calcul de la mesure 1\n",
    "* il y a ensuite un cout quadratique en 1 par milliers de lignes sur le calcul de la mesure 2\n",
    "* il y a enfin un cout cubique en 0.5 par milliers de lignes sur le calcul de la mesure 3\n",
    "\n",
    "(ce qui correspond bien aux graphes qu'on avait tracé dans un premier temps !)"
   ]
  },
  {
   "cell_type": "markdown",
   "metadata": {},
   "source": [
    "### Conclusion\n",
    "La regression polynomiale permet d'obtenir un modèle quand on sort des combinaisons linéaires de valeurs.\n",
    "\n",
    "En contrepartie, la complexité du modèle grandit de manière exponentielle, et le temps de calcul explose."
   ]
  }
 ],
 "metadata": {
  "kernelspec": {
   "display_name": "Python 3",
   "language": "python",
   "name": "python3"
  },
  "language_info": {
   "codemirror_mode": {
    "name": "ipython",
    "version": 3
   },
   "file_extension": ".py",
   "mimetype": "text/x-python",
   "name": "python",
   "nbconvert_exporter": "python",
   "pygments_lexer": "ipython3",
   "version": "3.8.6"
  }
 },
 "nbformat": 4,
 "nbformat_minor": 4
}
