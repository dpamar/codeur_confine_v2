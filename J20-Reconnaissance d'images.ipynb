{
 "cells": [
  {
   "cell_type": "markdown",
   "metadata": {},
   "source": [
    "![](brain.png)"
   ]
  },
  {
   "cell_type": "code",
   "execution_count": 1,
   "metadata": {},
   "outputs": [],
   "source": [
    "import numpy as np\n",
    "import matplotlib.pyplot as plot"
   ]
  },
  {
   "cell_type": "markdown",
   "metadata": {},
   "source": [
    "# Reconnaissance d'image\n",
    "## Mise en situation\n",
    "Je ne sais pas trop pourquoi, mais bon c'est un sujet récurrent dans les hands-on de machine learning : trouver un modèle qui reconnait les chiens et les chats.\n",
    "\n",
    "Bon, pour démarrer ici, on va dire, juste les chats\n",
    "\n",
    "## Utiliser un réseau profond\n",
    "On va simplement utiliser notre réseau précédent et l'entrainer à reconnaître des chats :)\n",
    "\n",
    "Le code est le même qu'hier."
   ]
  },
  {
   "cell_type": "code",
   "execution_count": 2,
   "metadata": {},
   "outputs": [],
   "source": [
    "# Les différentes fonctions\n",
    "def sigmoid(x) : return 1 / (1 + np.exp(-x))\n",
    "def tanh(x): return (np.exp(x) - np.exp(-x))/(np.exp(x) + np.exp(-x))\n",
    "def relu(x): return np.maximum(x, 0)\n",
    "\n",
    "act_functions = {'sigmoid': sigmoid, 'tanh' : tanh, 'relu' : relu}\n",
    "\n",
    "# Leurs dérivées\n",
    "def d_sigmoid(x):\n",
    "    s = sigmoid(x)\n",
    "    return s * (1 - s)\n",
    "\n",
    "def d_tanh(x):\n",
    "    t = tanh(x)\n",
    "    return 1 - t**2\n",
    "\n",
    "def d_relu(x):\n",
    "    return x > 0\n",
    "\n",
    "act_derivates = {'sigmoid': d_sigmoid, 'tanh' : d_tanh, 'relu' : d_relu}\n",
    "\n",
    "# Passe en avant : 1 couche - on utilise le dictionnaire de fonctions\n",
    "def layer_forward_pass(X, W, b, activation):\n",
    "    Z = np.dot(W, X) + b\n",
    "    A = act_functions[activation](Z)\n",
    "    return Z, A\n",
    "\n",
    "# Passe en avant : toutes les couches\n",
    "def model_forward_pass(X, activations, parameters):\n",
    "    result = {}\n",
    "    result['A0'] = X\n",
    "    # Entrée de la première couche: X\n",
    "    A = X\n",
    "    for i in range(1, len(activations) + 1):\n",
    "        # Pour chaque couche, une passe en avant. Les W et b viennent de parameters\n",
    "        Z_next, A_next = layer_forward_pass(A, parameters['W' + str(i)], parameters['b' + str(i)], activations[i-1])\n",
    "        result['Z' + str(i)] = Z_next\n",
    "        result['A' + str(i)] = A_next\n",
    "        A = A_next\n",
    "    return result\n",
    "\n",
    "# Passe en arrière : 1 couche - on utilise le dictionnaire de dérivées\n",
    "def layer_backward_pass(dA, Z, A_prev, W, activation):\n",
    "    dZ = dA * act_derivates[activation](Z)\n",
    "    dW = np.dot(dZ, A_prev.T)\n",
    "    db = np.sum(dZ, axis=1, keepdims = True)\n",
    "    dA_prev = np.dot(W.T, dZ)\n",
    "    return dW, db, dA_prev\n",
    "\n",
    "# Passe en arrière : toutes les couches\n",
    "def model_backward_pass(dA_last, parameters, forward_pass_results, activations):\n",
    "    gradients = {}\n",
    "    dA = dA_last\n",
    "    for i in range(len(activations), 0, -1):\n",
    "        dW, db, dA_prev = layer_backward_pass(dA,\n",
    "                                              forward_pass_results['Z' + str(i)],\n",
    "                                              forward_pass_results['A' + str(i-1)],\n",
    "                                              parameters['W' + str(i)],\n",
    "                                              activations[i-1])\n",
    "        gradients['dW' + str(i)] = dW\n",
    "        gradients['db' + str(i)] = db\n",
    "        dA = dA_prev\n",
    "    return gradients\n",
    "\n",
    "def train_model(X, Y, layer_dimensions, layer_activations,\n",
    "               learning_rate = 0.01, epochs = 10, batch_size = 64,\n",
    "               show_cost = False):\n",
    "    \n",
    "    m = X.shape[1]\n",
    "    #Nombre de couches - hors celle des entrées\n",
    "    l = len(layer_dimensions)-1\n",
    "    \n",
    "    # Création de tous les paramètres\n",
    "    # A chaque étape, W a pour dimensions \"nb neurones de la couche\" x \"nb entrées\" - on parlera de la division plus tard\n",
    "    # Et b est un vecteur, une valeur par neurone\n",
    "    parameters = {}\n",
    "    for i in range(1, l+1):\n",
    "        parameters['W' + str(i)] = np.random.randn(layer_dimensions[i], layer_dimensions[i-1]) / np.sqrt(layer_dimensions[i-1])\n",
    "        parameters['b' + str(i)] = np.zeros((layer_dimensions[i], 1))\n",
    "    \n",
    "    costs = []\n",
    "    # Apprentissage\n",
    "    for e in range(epochs):\n",
    "        for s in range(0, m, batch_size):\n",
    "            x_batch = X[:, s:s+batch_size]\n",
    "            y_batch = Y[:, s:s+batch_size]\n",
    "    \n",
    "            # Passe en avant\n",
    "            forward_pass_results = model_forward_pass(x_batch, layer_activations, parameters)\n",
    "            \n",
    "            # Calcul de la dérivée du coût par rapport au dernier A\n",
    "            A_last = forward_pass_results['A' + str(l)]\n",
    "            dA_last = -(np.divide(y_batch, A_last) - np.divide(1 - y_batch, 1 - A_last))/x_batch.shape[1]\n",
    "\n",
    "            # Calcul des gradients - passe en arrière\n",
    "            gradients = model_backward_pass(dA_last, parameters, forward_pass_results, layer_activations)\n",
    "            \n",
    "            # Descente de gradient\n",
    "            for i in range(1, l+1):\n",
    "                parameters['W' + str(i)] -= learning_rate * gradients['dW' + str(i)]\n",
    "                parameters['b' + str(i)] -= learning_rate * gradients['db' + str(i)]\n",
    "        \n",
    "        # Un peu de debug\n",
    "        model_result = model_forward_pass(X, layer_activations, parameters)['A' + str(l)]\n",
    "        cost = np.squeeze(-np.sum(np.log(model_result) * Y + np.log(1 - model_result) * (1-Y))/m)\n",
    "        costs.append(cost)\n",
    "        if show_cost :\n",
    "            if e % (epochs // 20) == 0: print('Epoch #%i: %s' % (e, cost))\n",
    "    return parameters, costs"
   ]
  },
  {
   "cell_type": "markdown",
   "metadata": {},
   "source": [
    "## Retour à la mise en situation\n",
    "\n",
    "### Chargement des données\n",
    "\n",
    "On va utiliser une base qui était le support d'un examen final d'une de mes formations - par Andrew Ng, deeplearning.ai sur Coursera.\n",
    "\n",
    "Allez, on charge et on normalise :"
   ]
  },
  {
   "cell_type": "code",
   "execution_count": 3,
   "metadata": {},
   "outputs": [],
   "source": [
    "def load(file): \n",
    "    data = np.load(file)\n",
    "    return data['x'], data['y']\n",
    "\n",
    "x_train, y_train = load('data/d20_train_data.npz')\n",
    "x_test , y_test  = load('data/d20_test_data.npz')\n",
    "\n",
    "mus    = x_train.mean(axis = 1, keepdims = True)\n",
    "sigmas = x_train.std (axis = 1, keepdims = True)\n",
    "\n",
    "x_train_norm = (x_train-mus)/sigmas\n",
    "x_test_norm  = (x_test -mus)/sigmas"
   ]
  },
  {
   "cell_type": "markdown",
   "metadata": {},
   "source": [
    "Les images sont des vecteurs de taille 12288 : chaque image fait 64x64 et on a les trois composantes R, G et B de chaque pixel. Total : 64 x 64 x 3 = 12288.\n",
    "\n",
    "On va entraîner un modèle qui a déjà fait ses preuves sur le sujet."
   ]
  },
  {
   "cell_type": "code",
   "execution_count": 4,
   "metadata": {},
   "outputs": [
    {
     "name": "stdout",
     "output_type": "stream",
     "text": [
      "Epoch #0: 0.7853240629461675\n",
      "Epoch #150: 0.39098538925899795\n",
      "Epoch #300: 0.29760105348900817\n",
      "Epoch #450: 0.23368589407281923\n",
      "Epoch #600: 0.18792749433687653\n",
      "Epoch #750: 0.15269290007804975\n",
      "Epoch #900: 0.1257585802280725\n",
      "Epoch #1050: 0.10485017024475578\n",
      "Epoch #1200: 0.08798085376242028\n",
      "Epoch #1350: 0.07448111305101174\n",
      "Epoch #1500: 0.06376749669936302\n",
      "Epoch #1650: 0.05494496751547223\n",
      "Epoch #1800: 0.04792892584914568\n",
      "Epoch #1950: 0.04203727690310805\n",
      "Epoch #2100: 0.037202963545460065\n",
      "Epoch #2250: 0.033224870997772465\n",
      "Epoch #2400: 0.029818486916205953\n",
      "Epoch #2550: 0.026841341850199464\n",
      "Epoch #2700: 0.024274457927564497\n",
      "Epoch #2850: 0.0222456842341318\n"
     ]
    },
    {
     "data": {
      "image/png": "[encoded data removed]",
      "text/plain": [
       "<Figure size 432x288 with 1 Axes>"
      ]
     },
     "metadata": {
      "needs_background": "light"
     },
     "output_type": "display_data"
    }
   ],
   "source": [
    "np.random.seed(1)\n",
    "epochs = 3000\n",
    "activations = ['relu', 'relu', 'relu', 'sigmoid']\n",
    "\n",
    "params, costs = train_model(x_train_norm, y_train, [64*64*3, 20, 7, 5, 1], activations,\n",
    "                            epochs = epochs, learning_rate = 0.0075, show_cost = True, batch_size = 256)\n",
    "\n",
    "plot.plot(range(epochs), costs)\n",
    "plot.title('Cost, by epochs')\n",
    "plot.show()"
   ]
  },
  {
   "cell_type": "markdown",
   "metadata": {},
   "source": [
    "Le coût décroit : ça signifie qu'au moins sur notre jeu d'entrainement, on est bon. Y'a plus qu'à tester !"
   ]
  },
  {
   "cell_type": "code",
   "execution_count": 5,
   "metadata": {},
   "outputs": [
    {
     "name": "stdout",
     "output_type": "stream",
     "text": [
      "Accuracy on training set : 100.000000%\n",
      "Accuracy on test set : 74.000000%\n"
     ]
    }
   ],
   "source": [
    "def accuracy(x, y, params, layer_activations):\n",
    "    results = model_forward_pass(x, layer_activations, params)['A'+str(len(layer_activations))] > .5\n",
    "    return np.mean(results == y)\n",
    "\n",
    "print('Accuracy on training set : %f%%' % (100*accuracy(x_train_norm, y_train, params, activations)))\n",
    "print('Accuracy on test set : %f%%'     % (100*accuracy(x_test_norm , y_test , params, activations)))"
   ]
  },
  {
   "cell_type": "markdown",
   "metadata": {},
   "source": [
    "On fait donc 100% sur le jeu de training, et 74% sur le jeu de test.\n",
    "* Bon déjà reconnaître le test à 74% c'est déjà pas mal - on n'a **QUE** 200 images d'entraînement à disposition, c'est très peu, et c'est déjà prometteur quand même !\n",
    "* Y'a un gros biais, il peut être du au modèle (pas assez complexe), à la distribution des données (les chats de tests ne ressemblent pas aux chats d'entrainement, par exemple j'ai appris avec des chats noirs uniquement et je teste avec des chats oranges rayés), ou à d'autres choses encore\n",
    "\n",
    "Idéalement, l'étape suivante est de creuser pour essayer de comprendre les erreurs :\n",
    "* les chats mal reconnus ressemblent bien à ceux de l'entraînement : c'est un overfit, à traiter comme tel\n",
    "* les chats mal reconnus sont sensiblement différents : c'est un problème de distribution\n",
    "* autre...\n",
    "\n",
    "## Et c'est tout ?\n",
    "Oui c'est tout. Un code pas vraiment compliqué quand on l'a écrit étape par étape, et on arrive à faire un truc correct."
   ]
  }
 ],
 "metadata": {
  "kernelspec": {
   "display_name": "Python 3",
   "language": "python",
   "name": "python3"
  },
  "language_info": {
   "codemirror_mode": {
    "name": "ipython",
    "version": 3
   },
   "file_extension": ".py",
   "mimetype": "text/x-python",
   "name": "python",
   "nbconvert_exporter": "python",
   "pygments_lexer": "ipython3",
   "version": "3.8.6"
  }
 },
 "nbformat": 4,
 "nbformat_minor": 4
}
